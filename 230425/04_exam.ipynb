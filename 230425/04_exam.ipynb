{
 "cells": [
  {
   "attachments": {},
   "cell_type": "markdown",
   "metadata": {},
   "source": [
    "# 문제\n",
    "1. corona.csv 파일 로드\n",
    "2. Unnamed: 0 컬럼을 삭제\n",
    "3. 컬럼을 첫번째부터 세번째까지 컬럼만두고 전부 삭제\n",
    "4. 컬럼의 이름 변경 ['등록일시', '누적사망자', '누적확진자']\n",
    "5. 등록일시를 기준으로 오름차순 정렬\n",
    "6. 일일확진자와 일일사망자 파생변수 생성(결측치는 0으로 대체)\n",
    "7. 일일확진자가 음수인 값을 삭제\n",
    "8. 등록일시를 시계열로 변경하고 인덱스로 변경\n",
    "9. 요일이라는 파생변수를 만들어서 요일 대입\n",
    "10. 요일 컬럼 0 -> 월, 1 -> 화, ... 6 -> 일 로 변경\n",
    "11. 요일별 일일 확진자의 평균을 바 그래프로 표시\n",
    "12. 요일별 일일 사망자의 평균을 바 그래프로 표시 "
   ]
  },
  {
   "cell_type": "code",
   "execution_count": 98,
   "metadata": {},
   "outputs": [],
   "source": [
    "import pandas as pd\n",
    "import numpy as np\n",
    "from datetime import datetime\n",
    "import matplotlib.pyplot as plt\n",
    "import platform"
   ]
  },
  {
   "cell_type": "code",
   "execution_count": 99,
   "metadata": {},
   "outputs": [],
   "source": [
    "# 1\n",
    "df = pd.read_csv(\"../csv/corona.csv\", usecols=[1,2,3])     # parse_dates=[0] : 첫번째 컬럼을 시계열로 바꾼다\n",
    "df.columns = ['등록일시', '누적사망자', '누적확진자']"
   ]
  },
  {
   "cell_type": "code",
   "execution_count": 100,
   "metadata": {},
   "outputs": [],
   "source": [
    "#df.drop('Unnamed: 0', axis=1, inplace=True)\n",
    "#df.drop(df.columns[3:], axis=1, inplace=True)"
   ]
  },
  {
   "cell_type": "code",
   "execution_count": 101,
   "metadata": {},
   "outputs": [],
   "source": [
    "df.sort_values('등록일시', inplace=True)"
   ]
  },
  {
   "cell_type": "code",
   "execution_count": 102,
   "metadata": {},
   "outputs": [],
   "source": [
    "df['일일확진자'] = df['누적확진자'].diff().fillna(0)\n",
    "# df['일일확진자'] = (df['누적확진자]-df['누적확진자'].shift()).fillna(0)\n",
    "df['일일사망자'] = df['누적사망자'].diff().fillna(0)"
   ]
  },
  {
   "cell_type": "code",
   "execution_count": 103,
   "metadata": {},
   "outputs": [],
   "source": [
    "# 7\n",
    "df = df.loc[df['일일확진자'] >= 0]"
   ]
  },
  {
   "cell_type": "code",
   "execution_count": 104,
   "metadata": {},
   "outputs": [],
   "source": [
    "# 8\n",
    "df['등록일시'] = pd.to_datetime(df['등록일시'], format='%Y-%m-%d')\n",
    "df.set_index('등록일시', inplace=True)"
   ]
  },
  {
   "cell_type": "code",
   "execution_count": 105,
   "metadata": {},
   "outputs": [],
   "source": [
    "# 9\n",
    "#df['요일'] = df.index.dayofweek\n",
    "for i in df.index:\n",
    "    df.loc[i, '요일'] = i.weekday()"
   ]
  },
  {
   "cell_type": "code",
   "execution_count": 108,
   "metadata": {},
   "outputs": [],
   "source": [
    "_list = df['요일'].astype(int).unique()"
   ]
  },
  {
   "cell_type": "code",
   "execution_count": 111,
   "metadata": {},
   "outputs": [],
   "source": [
    "week_name = ['월', '화', '수', '목', '금', '토', '일']\n",
    "\n",
    "for i in _list:\n",
    "    df.loc[df['요일'] == i, '요일'] = week_name[i]"
   ]
  },
  {
   "cell_type": "code",
   "execution_count": 112,
   "metadata": {},
   "outputs": [
    {
     "data": {
      "text/plain": [
       "화    118\n",
       "수    118\n",
       "금    117\n",
       "토    117\n",
       "일    117\n",
       "목    116\n",
       "월    116\n",
       "Name: 요일, dtype: int64"
      ]
     },
     "execution_count": 112,
     "metadata": {},
     "output_type": "execute_result"
    }
   ],
   "source": [
    "df['요일'].value_counts()"
   ]
  },
  {
   "cell_type": "code",
   "execution_count": null,
   "metadata": {},
   "outputs": [],
   "source": [
    "#week = {\n",
    "#    0 : '월',\n",
    "#    1 : '화',\n",
    "#    2 : '수',\n",
    "#    3 : '목',\n",
    "#    4 : '금',\n",
    "#    5 : '토',\n",
    "#    6 : '일'\n",
    "#}\n",
    "#df['요일'].replace(week)\n",
    "#np.where(df['요일], week)"
   ]
  },
  {
   "cell_type": "code",
   "execution_count": 65,
   "metadata": {},
   "outputs": [],
   "source": [
    "# 10\n",
    "#df['요일'] = df['요일'].map({0:'월', 1:'화', 2:'수', 3:'목', 4:'금', 5:'토', 6:'일'})"
   ]
  },
  {
   "cell_type": "code",
   "execution_count": 113,
   "metadata": {},
   "outputs": [
    {
     "data": {
      "text/html": [
       "<div>\n",
       "<style scoped>\n",
       "    .dataframe tbody tr th:only-of-type {\n",
       "        vertical-align: middle;\n",
       "    }\n",
       "\n",
       "    .dataframe tbody tr th {\n",
       "        vertical-align: top;\n",
       "    }\n",
       "\n",
       "    .dataframe thead th {\n",
       "        text-align: right;\n",
       "    }\n",
       "</style>\n",
       "<table border=\"1\" class=\"dataframe\">\n",
       "  <thead>\n",
       "    <tr style=\"text-align: right;\">\n",
       "      <th></th>\n",
       "      <th>누적사망자</th>\n",
       "      <th>누적확진자</th>\n",
       "      <th>일일확진자</th>\n",
       "      <th>일일사망자</th>\n",
       "      <th>요일</th>\n",
       "    </tr>\n",
       "    <tr>\n",
       "      <th>등록일시</th>\n",
       "      <th></th>\n",
       "      <th></th>\n",
       "      <th></th>\n",
       "      <th></th>\n",
       "      <th></th>\n",
       "    </tr>\n",
       "  </thead>\n",
       "  <tbody>\n",
       "    <tr>\n",
       "      <th>2020-03-10 00:00:00.000</th>\n",
       "      <td>54</td>\n",
       "      <td>7513</td>\n",
       "      <td>0.0</td>\n",
       "      <td>0.0</td>\n",
       "      <td>화</td>\n",
       "    </tr>\n",
       "    <tr>\n",
       "      <th>2020-03-11 00:00:00.000</th>\n",
       "      <td>60</td>\n",
       "      <td>7755</td>\n",
       "      <td>242.0</td>\n",
       "      <td>6.0</td>\n",
       "      <td>수</td>\n",
       "    </tr>\n",
       "    <tr>\n",
       "      <th>2020-03-12 00:00:00.000</th>\n",
       "      <td>66</td>\n",
       "      <td>7869</td>\n",
       "      <td>114.0</td>\n",
       "      <td>6.0</td>\n",
       "      <td>목</td>\n",
       "    </tr>\n",
       "    <tr>\n",
       "      <th>2020-03-13 00:00:00.000</th>\n",
       "      <td>67</td>\n",
       "      <td>7979</td>\n",
       "      <td>110.0</td>\n",
       "      <td>1.0</td>\n",
       "      <td>금</td>\n",
       "    </tr>\n",
       "    <tr>\n",
       "      <th>2020-03-14 00:00:00.000</th>\n",
       "      <td>72</td>\n",
       "      <td>8086</td>\n",
       "      <td>107.0</td>\n",
       "      <td>5.0</td>\n",
       "      <td>토</td>\n",
       "    </tr>\n",
       "    <tr>\n",
       "      <th>...</th>\n",
       "      <td>...</td>\n",
       "      <td>...</td>\n",
       "      <td>...</td>\n",
       "      <td>...</td>\n",
       "      <td>...</td>\n",
       "    </tr>\n",
       "    <tr>\n",
       "      <th>2022-06-04 08:56:49.219</th>\n",
       "      <td>24238</td>\n",
       "      <td>18153814</td>\n",
       "      <td>12039.0</td>\n",
       "      <td>9.0</td>\n",
       "      <td>토</td>\n",
       "    </tr>\n",
       "    <tr>\n",
       "      <th>2022-06-05 08:53:19.426</th>\n",
       "      <td>24258</td>\n",
       "      <td>18163648</td>\n",
       "      <td>9834.0</td>\n",
       "      <td>20.0</td>\n",
       "      <td>일</td>\n",
       "    </tr>\n",
       "    <tr>\n",
       "      <th>2022-06-06 09:00:06.734</th>\n",
       "      <td>24279</td>\n",
       "      <td>18168670</td>\n",
       "      <td>5022.0</td>\n",
       "      <td>21.0</td>\n",
       "      <td>월</td>\n",
       "    </tr>\n",
       "    <tr>\n",
       "      <th>2022-06-07 09:09:00.897</th>\n",
       "      <td>24299</td>\n",
       "      <td>18174842</td>\n",
       "      <td>6172.0</td>\n",
       "      <td>20.0</td>\n",
       "      <td>화</td>\n",
       "    </tr>\n",
       "    <tr>\n",
       "      <th>2022-06-08 09:09:05.982</th>\n",
       "      <td>24305</td>\n",
       "      <td>18188200</td>\n",
       "      <td>13358.0</td>\n",
       "      <td>6.0</td>\n",
       "      <td>수</td>\n",
       "    </tr>\n",
       "  </tbody>\n",
       "</table>\n",
       "<p>819 rows × 5 columns</p>\n",
       "</div>"
      ],
      "text/plain": [
       "                         누적사망자     누적확진자    일일확진자  일일사망자 요일\n",
       "등록일시                                                       \n",
       "2020-03-10 00:00:00.000     54      7513      0.0    0.0  화\n",
       "2020-03-11 00:00:00.000     60      7755    242.0    6.0  수\n",
       "2020-03-12 00:00:00.000     66      7869    114.0    6.0  목\n",
       "2020-03-13 00:00:00.000     67      7979    110.0    1.0  금\n",
       "2020-03-14 00:00:00.000     72      8086    107.0    5.0  토\n",
       "...                        ...       ...      ...    ... ..\n",
       "2022-06-04 08:56:49.219  24238  18153814  12039.0    9.0  토\n",
       "2022-06-05 08:53:19.426  24258  18163648   9834.0   20.0  일\n",
       "2022-06-06 09:00:06.734  24279  18168670   5022.0   21.0  월\n",
       "2022-06-07 09:09:00.897  24299  18174842   6172.0   20.0  화\n",
       "2022-06-08 09:09:05.982  24305  18188200  13358.0    6.0  수\n",
       "\n",
       "[819 rows x 5 columns]"
      ]
     },
     "execution_count": 113,
     "metadata": {},
     "output_type": "execute_result"
    }
   ],
   "source": [
    "df"
   ]
  },
  {
   "cell_type": "code",
   "execution_count": 118,
   "metadata": {},
   "outputs": [],
   "source": [
    "if platform.system() == 'Darwin':\n",
    "    plt.rc('font', family='AplleGothic')\n",
    "else:\n",
    "    plt.rc('font', family='Malgun Gothic')"
   ]
  },
  {
   "cell_type": "code",
   "execution_count": 121,
   "metadata": {},
   "outputs": [
    {
     "data": {
      "text/plain": [
       "<Axes: ylabel='요일'>"
      ]
     },
     "execution_count": 121,
     "metadata": {},
     "output_type": "execute_result"
    },
    {
     "data": {
      "image/png": "[encoded data removed]",
      "text/plain": [
       "<Figure size 640x480 with 1 Axes>"
      ]
     },
     "metadata": {},
     "output_type": "display_data"
    }
   ],
   "source": [
    "df.groupby('요일')['일일확진자'].mean().plot.barh()"
   ]
  },
  {
   "cell_type": "code",
   "execution_count": 122,
   "metadata": {},
   "outputs": [
    {
     "data": {
      "text/plain": [
       "<Axes: ylabel='요일'>"
      ]
     },
     "execution_count": 122,
     "metadata": {},
     "output_type": "execute_result"
    },
    {
     "data": {
      "image/png": "[encoded data removed]",
      "text/plain": [
       "<Figure size 640x480 with 1 Axes>"
      ]
     },
     "metadata": {},
     "output_type": "display_data"
    }
   ],
   "source": [
    "df.groupby('요일')['일일사망자'].mean().plot.barh()"
   ]
  },
  {
   "cell_type": "code",
   "execution_count": 68,
   "metadata": {},
   "outputs": [
    {
     "data": {
      "image/png": "[encoded data removed]",
      "text/plain": [
       "<Figure size 640x480 with 1 Axes>"
      ]
     },
     "metadata": {},
     "output_type": "display_data"
    }
   ],
   "source": [
    "# 11\n",
    "pivot_df = pd.pivot_table(\n",
    "    df,\n",
    "    index = '요일',\n",
    "    values = '일일확진자', \n",
    "    aggfunc = 'mean'\n",
    ").plot(kind='barh')"
   ]
  },
  {
   "cell_type": "code",
   "execution_count": 69,
   "metadata": {},
   "outputs": [
    {
     "data": {
      "image/png": "[encoded data removed]",
      "text/plain": [
       "<Figure size 640x480 with 1 Axes>"
      ]
     },
     "metadata": {},
     "output_type": "display_data"
    }
   ],
   "source": [
    "# 12\n",
    "pivot_df = pd.pivot_table(\n",
    "    df,\n",
    "    index = '요일',\n",
    "    values = '일일사망자', \n",
    "    aggfunc = 'mean'\n",
    ").plot(kind='barh')"
   ]
  },
  {
   "cell_type": "code",
   "execution_count": 71,
   "metadata": {},
   "outputs": [],
   "source": [
    "df2 = pd.read_csv(\"../csv/corona.csv\", usecols=[1,2,3], parse_dates=[0])"
   ]
  }
 ],
 "metadata": {
  "kernelspec": {
   "display_name": "Python 3",
   "language": "python",
   "name": "python3"
  },
  "language_info": {
   "codemirror_mode": {
    "name": "ipython",
    "version": 3
   },
   "file_extension": ".py",
   "mimetype": "text/x-python",
   "name": "python",
   "nbconvert_exporter": "python",
   "pygments_lexer": "ipython3",
   "version": "3.11.2"
  },
  "orig_nbformat": 4
 },
 "nbformat": 4,
 "nbformat_minor": 2
}

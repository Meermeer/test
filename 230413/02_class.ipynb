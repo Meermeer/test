{
 "cells": [
  {
   "attachments": {},
   "cell_type": "markdown",
   "metadata": {},
   "source": [
    "# Class 생성\n",
    "1. class 이름은 user\n",
    "2. 생성자 함수(__init__)에서 유저의 이름, 휴대폰 번호, 생년월일 매개변수를 이용하여 self 변수 만들어서 저정\n",
    "3. info() 함수를 생성하여 유저의 정보를 출력하는 함수 생성"
   ]
  },
  {
   "cell_type": "code",
   "execution_count": 1,
   "metadata": {},
   "outputs": [],
   "source": [
    "# class 선언\n",
    "class User:\n",
    "    # 생성자 함수 생성 : self를 제외한 매개변수는 3개\n",
    "    def __init__(self, _name, _phone, _birth):\n",
    "        self.name = _name\n",
    "        self.phone = _phone\n",
    "        self.birth = _birth\n",
    "\n",
    "    def info(self):\n",
    "        return (self.name, self.phone, self.birth)"
   ]
  },
  {
   "cell_type": "code",
   "execution_count": 2,
   "metadata": {},
   "outputs": [],
   "source": [
    "# test\n",
    "# 클래스 생성\n",
    "test = User('test', '01012345678', '900101')"
   ]
  },
  {
   "cell_type": "code",
   "execution_count": 3,
   "metadata": {},
   "outputs": [
    {
     "data": {
      "text/plain": [
       "'test'"
      ]
     },
     "execution_count": 3,
     "metadata": {},
     "output_type": "execute_result"
    }
   ],
   "source": [
    "test.name"
   ]
  },
  {
   "cell_type": "code",
   "execution_count": 4,
   "metadata": {},
   "outputs": [
    {
     "data": {
      "text/plain": [
       "'01012345678'"
      ]
     },
     "execution_count": 4,
     "metadata": {},
     "output_type": "execute_result"
    }
   ],
   "source": [
    "test.phone"
   ]
  },
  {
   "cell_type": "code",
   "execution_count": 5,
   "metadata": {},
   "outputs": [
    {
     "data": {
      "text/plain": [
       "'900101'"
      ]
     },
     "execution_count": 5,
     "metadata": {},
     "output_type": "execute_result"
    }
   ],
   "source": [
    "test.birth"
   ]
  },
  {
   "cell_type": "code",
   "execution_count": 6,
   "metadata": {},
   "outputs": [
    {
     "data": {
      "text/plain": [
       "('test', '01012345678', '900101')"
      ]
     },
     "execution_count": 6,
     "metadata": {},
     "output_type": "execute_result"
    }
   ],
   "source": [
    "test.info()"
   ]
  },
  {
   "attachments": {},
   "cell_type": "markdown",
   "metadata": {},
   "source": [
    "# 지갑 클래스 선언\n",
    "1. 클래스 이름은 Wallet\n",
    "2. 생성자 함수에는 소유자의 이름, 지갑의 브랜드, 지갑의 금액, 잔액\n",
    "3. 잔액은 기본값은 0\n",
    "4. work() 함수를 생성 : 매개변수에 일의 종류, 일의 종류가 'TM'이면 지갑의 잔액은 500 증가, \n",
    "alba이면 지갑의 잔액을 300 증가, serving이면 잔액을 400 증가\n",
    "5. wallet_info() 함수를 생성 : 지갑의 정보(소유자의 이름, 지갑의 브랜드, 지갑의 가치, 잔액)를 출력"
   ]
  },
  {
   "cell_type": "code",
   "execution_count": 133,
   "metadata": {},
   "outputs": [],
   "source": [
    "# class 선언\n",
    "class Wallet(User): # Wallet 클래스 생성시 User 클래스를 가져온다. User가 부모 클래싀. User로부터 기능을 상속 받음\n",
    "\n",
    "    # 클래스 변수 생성\n",
    "    work_type = {   # work_type은 다른 이름으로 해도 상관이 없긴 한데 왠만하면 연상이 될만한 걸로..\n",
    "        'TM' : 500,\n",
    "        'alba' : 300,\n",
    "        'serving' : 400\n",
    "    }\n",
    "\n",
    "    item_type = {\n",
    "        'cash' : 200,\n",
    "        'food' : 300,\n",
    "        'clothes' : 500\n",
    "    }\n",
    "\n",
    "    # 생성자 함수\n",
    "    def __init__(self, _name, _phone, _birth, _brand, _value, _balance=0):\n",
    "\n",
    "        # 부모 클래스의 __init__함수 실행\n",
    "        super().__init__(_name, _phone, _birth)\n",
    "\n",
    "        self.brand = _brand\n",
    "        self.value = _value\n",
    "        self.balance = _balance\n",
    "\n",
    "    # work() 함수 생성\n",
    "    def work(self, _type):\n",
    "        # if (_type == 'TM'):\n",
    "        #     self.balance = self.balance + 500\n",
    "        # elif (_type == 'alba'):\n",
    "        #     self.balance = self.balance + 300\n",
    "        # elif (_type == 'serving'):\n",
    "        #     self.balance = self.balance + 400\n",
    "        # else:\n",
    "        #     return \"일의 타입이 맞지 않습니다\"\n",
    "        # return f\"{_type}의 일을 완료하였습니다. 현재의 잔액은 {self.balance}입니다\"   # 변수 찾아서 집어넣어 주겠다. f : find\n",
    "        if _type in self.work_type.keys():\n",
    "            self.balance += self.work_type[_type]\n",
    "        else:\n",
    "            return \"일의 타입이 맞지 않습니다\"\n",
    "        return f\"{_type}의 일을 완료하였습니다. 현재의 잔액은 {self.balance}입니다\"\n",
    "    \n",
    "    # 구매하는 함수 생성. 주석으로 만들기 : ctrl+/\n",
    "    def buy(self, _item):\n",
    "        # if _item == 'cash':\n",
    "        #     self.cost = 200     # self는 해당 함수 안에서만 놀게 하는거. self.cost를 함으로써 cost가 buy 함수 안에서만 놀도록 한다.\n",
    "        #     #if (self.balance-200) < 0:\n",
    "        #     #    return \"잔액이 부족하여 구매를 할 수 없습니다\"\n",
    "        #     #else:\n",
    "        #     #    self.balance -= 200\n",
    "        # elif _item == 'food':\n",
    "        #     self.cost = 300\n",
    "        #     #if (self.balance-300) < 0:\n",
    "        #     #    return \"잔액이 부족하여 구매를 할 수 없습니다\"\n",
    "        #     #else:\n",
    "        #     #    self.balance -= 300\n",
    "\n",
    "        # elif _item == 'clothes':\n",
    "        #     self.cost = 500\n",
    "        #     #if (self.balance-500) < 0:\n",
    "        #     #    return \"잔액이 부족하여 구매를 할 수 없습니다\"\n",
    "        #     #else:\n",
    "        #     #    self.balance -= 500\n",
    "        # else:\n",
    "        #     return \"item의 타입이 맞지 않습니다.\"\n",
    "        if _item in self.item_type.keys():\n",
    "        \n",
    "            if self.balance >= self.item_type[_item]:\n",
    "                self.balance -= self.item_type[_item]\n",
    "            else:\n",
    "                return \"지갑의 잔액이 부족합니다\"\n",
    "        else:\n",
    "            return \"item의 타입이 맞지 않습니다.\"\n",
    "\n",
    "        \n",
    "        return f\"{_item}을(를) 구매하였습니다. 현재의 잔액은 {self.balance}입니다.\"\n",
    "    \n",
    "    # 일과 구매의 목록을 추가하는 함수 생성\n",
    "    def add_type(self, _choose, _key, _value):\n",
    "        # _choose : 일이냐 구매 목록이냐\n",
    "        # _key : dict의 키 값\n",
    "        # _value : dict의 value 값\n",
    "        if _choose == \"work\":\n",
    "            if _key not in self.work_type.keys():\n",
    "                self.work_type[_key] = _value\n",
    "            else:\n",
    "                return \"일 목록이 존재합니다\"\n",
    "            \n",
    "        elif _choose == 'buy':\n",
    "            if _key not in self.work_type.keys():   # 똑같은 키 값이 없는 경우에만 추가하겠다\n",
    "                self.item_type[_key] = _value\n",
    "            else:\n",
    "                return \"구매 목록이 존재합니다\"\n",
    "        else:\n",
    "            return \"choose의 값이 잘못 되었습니다\"\n",
    "\n",
    "        return f\"{_choose}의 목록이 추가되었습니다.\"\n",
    "    \n",
    "    # 지갑의 정보를 출력하는 함수 생성\n",
    "    def info(self):     # 부모 클래스에 있는거랑 이름이 똑같아서 오버라이딩이 일어남. Wallet으로 불러오면 부모께 사라짐\n",
    "        return (self.brand, self.value, self.balance)"
   ]
  },
  {
   "cell_type": "code",
   "execution_count": 134,
   "metadata": {},
   "outputs": [],
   "source": [
    "test = Wallet('test', '01012345678', '900101', 'gucci', '5000')"
   ]
  },
  {
   "cell_type": "code",
   "execution_count": 135,
   "metadata": {},
   "outputs": [
    {
     "data": {
      "text/plain": [
       "('gucci', '5000', 0)"
      ]
     },
     "execution_count": 135,
     "metadata": {},
     "output_type": "execute_result"
    }
   ],
   "source": [
    "test.info()"
   ]
  },
  {
   "cell_type": "code",
   "execution_count": 136,
   "metadata": {},
   "outputs": [],
   "source": [
    "test2 = User('test2', '01011112222', '000101')"
   ]
  },
  {
   "cell_type": "code",
   "execution_count": 137,
   "metadata": {},
   "outputs": [
    {
     "data": {
      "text/plain": [
       "('test2', '01011112222', '000101')"
      ]
     },
     "execution_count": 137,
     "metadata": {},
     "output_type": "execute_result"
    }
   ],
   "source": [
    "test2.info()"
   ]
  },
  {
   "cell_type": "code",
   "execution_count": 132,
   "metadata": {},
   "outputs": [
    {
     "data": {
      "text/plain": [
       "'TM의 일을 완료하였습니다. 현재의 잔액은 500입니다'"
      ]
     },
     "execution_count": 132,
     "metadata": {},
     "output_type": "execute_result"
    }
   ],
   "source": [
    "test.work('TM')"
   ]
  },
  {
   "cell_type": "code",
   "execution_count": 96,
   "metadata": {},
   "outputs": [
    {
     "data": {
      "text/plain": [
       "'alba의 일을 완료하였습니다. 현재의 잔액은 800입니다'"
      ]
     },
     "execution_count": 96,
     "metadata": {},
     "output_type": "execute_result"
    }
   ],
   "source": [
    "test.work('alba')"
   ]
  },
  {
   "cell_type": "code",
   "execution_count": 123,
   "metadata": {},
   "outputs": [
    {
     "data": {
      "text/plain": [
       "'teach의 일을 완료하였습니다. 현재의 잔액은 200입니다'"
      ]
     },
     "execution_count": 123,
     "metadata": {},
     "output_type": "execute_result"
    }
   ],
   "source": [
    "test.work('teach')"
   ]
  },
  {
   "cell_type": "code",
   "execution_count": 122,
   "metadata": {},
   "outputs": [
    {
     "data": {
      "text/plain": [
       "'work의 목록이 추가되었습니다.'"
      ]
     },
     "execution_count": 122,
     "metadata": {},
     "output_type": "execute_result"
    }
   ],
   "source": [
    "test.add_type('work', 'teach', 200)"
   ]
  },
  {
   "cell_type": "code",
   "execution_count": 124,
   "metadata": {},
   "outputs": [
    {
     "data": {
      "text/plain": [
       "'buy의 목록이 추가되었습니다.'"
      ]
     },
     "execution_count": 124,
     "metadata": {},
     "output_type": "execute_result"
    }
   ],
   "source": [
    "test.add_type('buy', 'coffee', 100)"
   ]
  },
  {
   "cell_type": "code",
   "execution_count": 125,
   "metadata": {},
   "outputs": [
    {
     "data": {
      "text/plain": [
       "'coffee을(를) 구매하였습니다. 현재의 잔액은 100입니다.'"
      ]
     },
     "execution_count": 125,
     "metadata": {},
     "output_type": "execute_result"
    }
   ],
   "source": [
    "test.buy('coffee')"
   ]
  },
  {
   "cell_type": "code",
   "execution_count": 89,
   "metadata": {},
   "outputs": [
    {
     "data": {
      "text/plain": [
       "'cash을(를) 구매하였습니다. 현재의 잔액은 600입니다.'"
      ]
     },
     "execution_count": 89,
     "metadata": {},
     "output_type": "execute_result"
    }
   ],
   "source": [
    "test.buy('cash')"
   ]
  },
  {
   "cell_type": "code",
   "execution_count": 92,
   "metadata": {},
   "outputs": [
    {
     "data": {
      "text/plain": [
       "'지갑의 잔액이 부족합니다'"
      ]
     },
     "execution_count": 92,
     "metadata": {},
     "output_type": "execute_result"
    }
   ],
   "source": [
    "test.buy('food')"
   ]
  },
  {
   "cell_type": "code",
   "execution_count": 126,
   "metadata": {},
   "outputs": [
    {
     "data": {
      "text/plain": [
       "{'cash': 200, 'food': 300, 'clothes': 500, 'coffee': 100}"
      ]
     },
     "execution_count": 126,
     "metadata": {},
     "output_type": "execute_result"
    }
   ],
   "source": [
    "test.item_type"
   ]
  },
  {
   "cell_type": "code",
   "execution_count": 127,
   "metadata": {},
   "outputs": [
    {
     "data": {
      "text/plain": [
       "{'TM': 500, 'alba': 300, 'serving': 400, 'teach': 200}"
      ]
     },
     "execution_count": 127,
     "metadata": {},
     "output_type": "execute_result"
    }
   ],
   "source": [
    "test.work_type"
   ]
  },
  {
   "cell_type": "code",
   "execution_count": null,
   "metadata": {},
   "outputs": [],
   "source": []
  }
 ],
 "metadata": {
  "kernelspec": {
   "display_name": "Python 3",
   "language": "python",
   "name": "python3"
  },
  "language_info": {
   "codemirror_mode": {
    "name": "ipython",
    "version": 3
   },
   "file_extension": ".py",
   "mimetype": "text/x-python",
   "name": "python",
   "nbconvert_exporter": "python",
   "pygments_lexer": "ipython3",
   "version": "3.11.2"
  },
  "orig_nbformat": 4
 },
 "nbformat": 4,
 "nbformat_minor": 2
}

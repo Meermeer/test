{
 "cells": [
  {
   "attachments": {},
   "cell_type": "markdown",
   "metadata": {},
   "source": [
    "### 볼린저 밴드 함수화\n",
    "1. 첫 번째 함수를 생성(매개변수 데이터프레임 하나)\n",
    "    1. 결측치와 이상치를 제거한다\n",
    "    2. 컬럼을 종가만 두고 모두 삭제\n",
    "    3. 이동 평균선, 상단 밴드, 하단 밴드 파생변수 생성\n",
    "2. 두 번째 함수를 생성(매개변수 데이터프레임 하나)\n",
    "    1. 거래 내역이라는 파생 변수 생성 값은 \"\"\n",
    "    2. 볼린저 밴드의 거래 내역을 추가\n",
    "    3. 거래 내역을 출력(print)\n",
    "3. 세 번째 함수를 생성(매개변수 데이터프레임 하나)\n",
    "    1. 수익률 파생변수 생성 값은 \"1\"\n",
    "    2. 판매를 한 날의 수익률 변경\n",
    "    3. 누적 수익률을 계산하여 새로운 파생변수를 생성\n",
    "    4. 최종 누적 수익률을 출력(print)"
   ]
  },
  {
   "cell_type": "code",
   "execution_count": 32,
   "metadata": {},
   "outputs": [],
   "source": [
    "import pandas as pd\n",
    "import numpy as np\n",
    "import matplotlib.pyplot as plt\n",
    "from datetime import datetime"
   ]
  },
  {
   "cell_type": "code",
   "execution_count": 16,
   "metadata": {},
   "outputs": [],
   "source": [
    "def pricedf(df, column = 'Adj Close', start = '20110101', end = '20200101'):\n",
    "    df = df.loc[~df.isin((np.nan, np.inf, -np.inf)).any(axis='columns')]\n",
    "    price_df = df[['Adj Close']]\n",
    "    price_df['center'] = price_df['Adj Close'].rolling(20).mean()\n",
    "\n",
    "    price_df['ub'] = price_df['center'] + ( 2 * price_df['Adj Close'].rolling(20).std() )\n",
    "    price_df['lb'] = price_df['center'] - ( 2 * price_df['Adj Close'].rolling(20).std() )\n",
    "    return price_df"
   ]
  },
  {
   "cell_type": "code",
   "execution_count": 19,
   "metadata": {},
   "outputs": [],
   "source": [
    "def tradedf(df):\n",
    "    df['trade'] = ''\n",
    "    for i in df.index:\n",
    "    # 상단 밴드보다 종가가 높은 경우\n",
    "        if df.loc[i, 'Adj Close'] > df.loc[i, 'ub']:\n",
    "            # 현재 구매 상태이면\n",
    "            if df.shift(1).loc[i, 'trade'] == 'buy':\n",
    "                # 매도\n",
    "                df.loc[i, 'trade'] = ''\n",
    "            else:\n",
    "                df.loc[i, 'trade'] = ''\n",
    "        # 하단 밴드보다 종가가 낮은 경우\n",
    "        elif df.loc[i,'Adj Close'] < df.loc[i,'lb']:\n",
    "            # 현재 구매 상태이면\n",
    "            if df.shift(1).loc[i, 'trade'] == 'buy':\n",
    "                # 구매 상태를 유지\n",
    "                df.loc[i, 'trade'] = 'buy'\n",
    "            else:\n",
    "                df.loc[i, 'trade'] = 'buy'\n",
    "        else:\n",
    "            # 현재 구매 상태면\n",
    "            if df.shift(1).loc[i, 'trade'] == 'buy':\n",
    "                # 구매 상태를 유지\n",
    "                df.loc[i, 'trade'] = 'buy'\n",
    "            else:\n",
    "                df.loc[i, 'trade'] = ''\n",
    "    return df"
   ]
  },
  {
   "cell_type": "code",
   "execution_count": 20,
   "metadata": {},
   "outputs": [],
   "source": [
    "def rtndf(df):\n",
    "    rtn = 1.0\n",
    "    df['return'] = 1\n",
    "    buy = 0.0\n",
    "    sell = 0.0\n",
    "    for i in df.index:\n",
    "    # 구매가를 출력\n",
    "        if (df.shift(1).loc[i, 'trade'] == '') and \\\n",
    "            (df.loc[i, 'trade'] == 'buy'):\n",
    "            buy = df.loc[i, 'Adj Close']\n",
    "        #    print('진입일 :', i, '구매 가격 :', buy)\n",
    "        # 판매가를 출력\n",
    "        elif (df.shift(1).loc[i, 'trade'] == 'buy') and \\\n",
    "            (df.loc[i, 'trade'] == ''):\n",
    "            sell = df.loc[i, 'Adj Close']\n",
    "            rtn = (sell - buy)/buy + 1\n",
    "            df.loc[i, 'return'] = rtn\n",
    "        #    print('판매일 :', i, '판매 가격 :', sell, '수익률 :', rtn)\n",
    "\n",
    "        # 구매가, 판매가를 초기화\n",
    "        if df.loc[i, 'trade'] == '':\n",
    "            buy = 0.0\n",
    "            sell = 0.0\n",
    "\n",
    "    acc_rtn = 1.0\n",
    "    for i in df.index:\n",
    "        rtn = df.loc[i, 'return']\n",
    "        acc_rtn *= rtn\n",
    "        df.loc[i, 'acc_rtn'] = acc_rtn\n",
    "    return df\n",
    "\n",
    "    #print('누적 수익율 :', acc_rtn)"
   ]
  },
  {
   "cell_type": "code",
   "execution_count": 21,
   "metadata": {},
   "outputs": [
    {
     "name": "stderr",
     "output_type": "stream",
     "text": [
      "C:\\Users\\HangAri\\AppData\\Local\\Temp\\ipykernel_8992\\94534201.py:4: SettingWithCopyWarning: \n",
      "A value is trying to be set on a copy of a slice from a DataFrame.\n",
      "Try using .loc[row_indexer,col_indexer] = value instead\n",
      "\n",
      "See the caveats in the documentation: https://pandas.pydata.org/pandas-docs/stable/user_guide/indexing.html#returning-a-view-versus-a-copy\n",
      "  price_df['center'] = price_df['Adj Close'].rolling(20).mean()\n",
      "C:\\Users\\HangAri\\AppData\\Local\\Temp\\ipykernel_8992\\94534201.py:6: SettingWithCopyWarning: \n",
      "A value is trying to be set on a copy of a slice from a DataFrame.\n",
      "Try using .loc[row_indexer,col_indexer] = value instead\n",
      "\n",
      "See the caveats in the documentation: https://pandas.pydata.org/pandas-docs/stable/user_guide/indexing.html#returning-a-view-versus-a-copy\n",
      "  price_df['ub'] = price_df['center'] + ( 2 * price_df['Adj Close'].rolling(20).std() )\n",
      "C:\\Users\\HangAri\\AppData\\Local\\Temp\\ipykernel_8992\\94534201.py:7: SettingWithCopyWarning: \n",
      "A value is trying to be set on a copy of a slice from a DataFrame.\n",
      "Try using .loc[row_indexer,col_indexer] = value instead\n",
      "\n",
      "See the caveats in the documentation: https://pandas.pydata.org/pandas-docs/stable/user_guide/indexing.html#returning-a-view-versus-a-copy\n",
      "  price_df['lb'] = price_df['center'] - ( 2 * price_df['Adj Close'].rolling(20).std() )\n"
     ]
    }
   ],
   "source": [
    "df = pd.read_csv(\"../csv/GM.csv\",  index_col='Date')\n",
    "df = pricedf(df,'Adj Close')"
   ]
  },
  {
   "cell_type": "code",
   "execution_count": 22,
   "metadata": {},
   "outputs": [
    {
     "data": {
      "text/plain": [
       "buy    1130\n",
       "       1032\n",
       "Name: trade, dtype: int64"
      ]
     },
     "execution_count": 22,
     "metadata": {},
     "output_type": "execute_result"
    }
   ],
   "source": [
    "df = tradedf(df)\n",
    "df['trade'].value_counts()"
   ]
  },
  {
   "cell_type": "code",
   "execution_count": 23,
   "metadata": {},
   "outputs": [],
   "source": [
    "df = rtndf(df)"
   ]
  },
  {
   "cell_type": "code",
   "execution_count": 30,
   "metadata": {},
   "outputs": [
    {
     "name": "stdout",
     "output_type": "stream",
     "text": [
      "누적 수익율 : 1.1764314536564138\n"
     ]
    }
   ],
   "source": [
    "print('누적 수익율 :', df['acc_rtn'].iloc[-1])"
   ]
  }
 ],
 "metadata": {
  "kernelspec": {
   "display_name": "Python 3",
   "language": "python",
   "name": "python3"
  },
  "language_info": {
   "codemirror_mode": {
    "name": "ipython",
    "version": 3
   },
   "file_extension": ".py",
   "mimetype": "text/x-python",
   "name": "python",
   "nbconvert_exporter": "python",
   "pygments_lexer": "ipython3",
   "version": "3.11.2"
  },
  "orig_nbformat": 4
 },
 "nbformat": 4,
 "nbformat_minor": 2
}

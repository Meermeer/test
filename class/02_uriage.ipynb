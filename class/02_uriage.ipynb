{
 "cells": [
  {
   "cell_type": "code",
   "execution_count": 1,
   "metadata": {},
   "outputs": [],
   "source": [
    "import pandas as pd"
   ]
  },
  {
   "attachments": {},
   "cell_type": "markdown",
   "metadata": {},
   "source": [
    "1. csv 폴더에서 uriage.csv 로드\n",
    "2. purchase_date 컬럼의 데이터를 시계열데이터로 변경\n",
    "3. item_name의 데이터를 모든 문자열을 대문자로 변경\n",
    "4. item_name의 데이터의 공백을 모두 삭제\n",
    "5. item_name을 기준으로 오름차순 정렬\n",
    "6. 인덱스를 초기화\n",
    "7. 결측치를 채우는 작업\n",
    "    - item_price 컬럼에 결측치가 존재\n",
    "    - 상품 A인 경우 결측치는 상품 A의 item_price중 결측치가 아닌 값으로 치환\n",
    "    - 위의 작업을 상품 A부터 상품 Z까지 반복 작업"
   ]
  },
  {
   "cell_type": "code",
   "execution_count": 48,
   "metadata": {},
   "outputs": [
    {
     "name": "stdout",
     "output_type": "stream",
     "text": [
      "<class 'pandas.core.frame.DataFrame'>\n",
      "RangeIndex: 2999 entries, 0 to 2998\n",
      "Data columns (total 4 columns):\n",
      " #   Column         Non-Null Count  Dtype  \n",
      "---  ------         --------------  -----  \n",
      " 0   purchase_date  2999 non-null   object \n",
      " 1   item_name      2999 non-null   object \n",
      " 2   item_price     2612 non-null   float64\n",
      " 3   customer_name  2999 non-null   object \n",
      "dtypes: float64(1), object(3)\n",
      "memory usage: 93.8+ KB\n"
     ]
    }
   ],
   "source": [
    "uriage = pd.read_csv(\"../csv/uriage.csv\")\n",
    "uriage.info()"
   ]
  },
  {
   "cell_type": "code",
   "execution_count": 7,
   "metadata": {},
   "outputs": [
    {
     "data": {
      "text/plain": [
       "purchase_date      0\n",
       "item_name          0\n",
       "item_price       387\n",
       "customer_name      0\n",
       "dtype: int64"
      ]
     },
     "execution_count": 7,
     "metadata": {},
     "output_type": "execute_result"
    }
   ],
   "source": [
    "uriage.isna().sum()"
   ]
  },
  {
   "cell_type": "code",
   "execution_count": 37,
   "metadata": {},
   "outputs": [
    {
     "data": {
      "text/plain": [
       "Timestamp('2004-05-05 00:00:00')"
      ]
     },
     "execution_count": 37,
     "metadata": {},
     "output_type": "execute_result"
    }
   ],
   "source": [
    "# 시계열 데이터로 데이터의 형태를 변경\n",
    "# pd.to_datetime(변경할 데이터, format = \"\")\n",
    "\n",
    "# t = 20230405\n",
    "# pd.to_datetime(t, format =\"%Y%m%d\")\n",
    "# Timestamp('1970-01-01 00:00:00.020230405') : 컴퓨터의 기본적인 시간 단위가 ns라는 의미.\n",
    "\n",
    "# t = '2023-04-05'\n",
    "# pd.to_datetime(t)   # pd.to_datetime(t, format =\"%Y-%m-%d\")\n",
    "\n",
    "#t = '04-05-23'\n",
    "#pd.to_datetime(t, format = \"%m-%d-%y\")\n",
    "\n",
    "# t = '04/05/23'\n",
    "# pd.to_datetime(t)\n",
    "\n",
    "# t = '04/05/05'\n",
    "# pd.to_datetime(t, format = \"%y/%m/%d\") : Timestamp('2004-05-05 00:00:00')"
   ]
  },
  {
   "cell_type": "code",
   "execution_count": 49,
   "metadata": {},
   "outputs": [
    {
     "data": {
      "text/plain": [
       "0      2019-06-13 18:02:00\n",
       "1      2019-07-13 13:05:00\n",
       "2      2019-05-11 19:42:00\n",
       "3      2019-02-12 23:40:00\n",
       "4      2019-04-22 03:09:00\n",
       "               ...        \n",
       "2994   2019-02-15 02:56:00\n",
       "2995   2019-06-22 04:03:00\n",
       "2996   2019-03-29 11:14:00\n",
       "2997   2019-07-14 12:56:00\n",
       "2998   2019-07-21 00:31:00\n",
       "Name: purchase_date, Length: 2999, dtype: datetime64[ns]"
      ]
     },
     "execution_count": 49,
     "metadata": {},
     "output_type": "execute_result"
    }
   ],
   "source": [
    "# purchase_date 컬럼을 시계열로 변경\n",
    "uriage['purchase_date']\n",
    "pd.to_datetime(uriage['purchase_date'])"
   ]
  },
  {
   "cell_type": "code",
   "execution_count": 53,
   "metadata": {},
   "outputs": [
    {
     "data": {
      "text/html": [
       "<div>\n",
       "<style scoped>\n",
       "    .dataframe tbody tr th:only-of-type {\n",
       "        vertical-align: middle;\n",
       "    }\n",
       "\n",
       "    .dataframe tbody tr th {\n",
       "        vertical-align: top;\n",
       "    }\n",
       "\n",
       "    .dataframe thead th {\n",
       "        text-align: right;\n",
       "    }\n",
       "</style>\n",
       "<table border=\"1\" class=\"dataframe\">\n",
       "  <thead>\n",
       "    <tr style=\"text-align: right;\">\n",
       "      <th></th>\n",
       "      <th>purchase_date</th>\n",
       "      <th>item_name</th>\n",
       "      <th>item_price</th>\n",
       "      <th>customer_name</th>\n",
       "    </tr>\n",
       "  </thead>\n",
       "  <tbody>\n",
       "    <tr>\n",
       "      <th>0</th>\n",
       "      <td>2019-06-13 18:02</td>\n",
       "      <td>상품A</td>\n",
       "      <td>100.0</td>\n",
       "      <td>김가온</td>\n",
       "    </tr>\n",
       "    <tr>\n",
       "      <th>1</th>\n",
       "      <td>2019-07-13 13:05</td>\n",
       "      <td>상 품 S</td>\n",
       "      <td>NaN</td>\n",
       "      <td>김우찬</td>\n",
       "    </tr>\n",
       "    <tr>\n",
       "      <th>2</th>\n",
       "      <td>2019-05-11 19:42</td>\n",
       "      <td>상 품 a</td>\n",
       "      <td>NaN</td>\n",
       "      <td>김유찬</td>\n",
       "    </tr>\n",
       "    <tr>\n",
       "      <th>3</th>\n",
       "      <td>2019-02-12 23:40</td>\n",
       "      <td>상품Z</td>\n",
       "      <td>2600.0</td>\n",
       "      <td>김재현</td>\n",
       "    </tr>\n",
       "    <tr>\n",
       "      <th>4</th>\n",
       "      <td>2019-04-22 3:09</td>\n",
       "      <td>상품a</td>\n",
       "      <td>NaN</td>\n",
       "      <td>김강현</td>\n",
       "    </tr>\n",
       "    <tr>\n",
       "      <th>...</th>\n",
       "      <td>...</td>\n",
       "      <td>...</td>\n",
       "      <td>...</td>\n",
       "      <td>...</td>\n",
       "    </tr>\n",
       "    <tr>\n",
       "      <th>2994</th>\n",
       "      <td>2019-02-15 2:56</td>\n",
       "      <td>상품Y</td>\n",
       "      <td>2500.0</td>\n",
       "      <td>김정민</td>\n",
       "    </tr>\n",
       "    <tr>\n",
       "      <th>2995</th>\n",
       "      <td>2019-06-22 4:03</td>\n",
       "      <td>상품M</td>\n",
       "      <td>1300.0</td>\n",
       "      <td>김재원</td>\n",
       "    </tr>\n",
       "    <tr>\n",
       "      <th>2996</th>\n",
       "      <td>2019-03-29 11:14</td>\n",
       "      <td>상품Q</td>\n",
       "      <td>NaN</td>\n",
       "      <td>김지율</td>\n",
       "    </tr>\n",
       "    <tr>\n",
       "      <th>2997</th>\n",
       "      <td>2019-07-14 12:56</td>\n",
       "      <td>상품H</td>\n",
       "      <td>NaN</td>\n",
       "      <td>김승주</td>\n",
       "    </tr>\n",
       "    <tr>\n",
       "      <th>2998</th>\n",
       "      <td>2019-07-21 0:31</td>\n",
       "      <td>상품D</td>\n",
       "      <td>400.0</td>\n",
       "      <td>정준기</td>\n",
       "    </tr>\n",
       "  </tbody>\n",
       "</table>\n",
       "<p>2999 rows × 4 columns</p>\n",
       "</div>"
      ],
      "text/plain": [
       "         purchase_date item_name  item_price customer_name\n",
       "0     2019-06-13 18:02       상품A       100.0           김가온\n",
       "1     2019-07-13 13:05     상 품 S         NaN           김우찬\n",
       "2     2019-05-11 19:42     상 품 a         NaN           김유찬\n",
       "3     2019-02-12 23:40       상품Z      2600.0           김재현\n",
       "4      2019-04-22 3:09       상품a         NaN           김강현\n",
       "...                ...       ...         ...           ...\n",
       "2994   2019-02-15 2:56       상품Y      2500.0           김정민\n",
       "2995   2019-06-22 4:03       상품M      1300.0           김재원\n",
       "2996  2019-03-29 11:14       상품Q         NaN           김지율\n",
       "2997  2019-07-14 12:56       상품H         NaN           김승주\n",
       "2998   2019-07-21 0:31       상품D       400.0           정준기\n",
       "\n",
       "[2999 rows x 4 columns]"
      ]
     },
     "execution_count": 53,
     "metadata": {},
     "output_type": "execute_result"
    }
   ],
   "source": [
    "# 원본 데이터를 생성\n",
    "origin_data = uriage.copy()\n",
    "origin_data"
   ]
  },
  {
   "cell_type": "code",
   "execution_count": 55,
   "metadata": {},
   "outputs": [],
   "source": [
    "# item_name 컬럼의 데이터를 모두 대문자로 변경\n",
    "# upper() : 믄자열을 모두 대문자 전환\n",
    "# str.upper() 사용하여 문자열을 대문자로 변경하는 방식\n",
    "uriage['item_name'] = uriage['item_name'].str.upper()"
   ]
  },
  {
   "cell_type": "code",
   "execution_count": 62,
   "metadata": {},
   "outputs": [
    {
     "data": {
      "text/plain": [
       "0         상품a\n",
       "1       상 품 s\n",
       "2       상 품 a\n",
       "3         상품z\n",
       "4         상품a\n",
       "        ...  \n",
       "2994      상품y\n",
       "2995      상품m\n",
       "2996      상품q\n",
       "2997      상품h\n",
       "2998      상품d\n",
       "Name: item_name, Length: 2999, dtype: object"
      ]
     },
     "execution_count": 62,
     "metadata": {},
     "output_type": "execute_result"
    }
   ],
   "source": [
    "# apply() 함수를 이용하여 글자를 모두 소문자로 변경\n",
    "# apply()는 시리즈형태데이터.apply(함수) --> \n",
    "# 시리즈의 데이터들을 하나씩 함수안에 넣어서 결과값으로 새로운 시리즈형태의 데이터를 생성\n",
    "\n",
    "def change(x):\n",
    "    result = x.lower()\n",
    "    return result\n",
    "\n",
    "uriage['item_name'] = uriage['item_name'].apply(change)\n",
    "uriage['item_name']"
   ]
  },
  {
   "cell_type": "code",
   "execution_count": 65,
   "metadata": {},
   "outputs": [],
   "source": [
    "# appply(lambda 함수)\n",
    "\n",
    "uriage['item_name'] = uriage['item_name'].apply(lambda x : x.upper())\n",
    "\n",
    "# uriage['item_name'] = uriage['item_name'].apply(lambda x : x.lower())와 같은 동작 ->\n",
    "# def change(x):\n",
    "#     result = x.lower()\n",
    "#     return result\n",
    "# uriage['item_name'] = uriage['item_name'].apply(change)"
   ]
  },
  {
   "cell_type": "code",
   "execution_count": 66,
   "metadata": {},
   "outputs": [
    {
     "name": "stdout",
     "output_type": "stream",
     "text": [
      "0       2019-06-13 18:02\n",
      "1       2019-07-13 13:05\n",
      "2       2019-05-11 19:42\n",
      "3       2019-02-12 23:40\n",
      "4        2019-04-22 3:09\n",
      "              ...       \n",
      "2994     2019-02-15 2:56\n",
      "2995     2019-06-22 4:03\n",
      "2996    2019-03-29 11:14\n",
      "2997    2019-07-14 12:56\n",
      "2998     2019-07-21 0:31\n",
      "Name: purchase_date, Length: 2999, dtype: object\n",
      "0         상품A\n",
      "1       상 품 S\n",
      "2       상 품 A\n",
      "3         상품Z\n",
      "4         상품A\n",
      "        ...  \n",
      "2994      상품Y\n",
      "2995      상품M\n",
      "2996      상품Q\n",
      "2997      상품H\n",
      "2998      상품D\n",
      "Name: item_name, Length: 2999, dtype: object\n",
      "0        100.0\n",
      "1          NaN\n",
      "2          NaN\n",
      "3       2600.0\n",
      "4          NaN\n",
      "         ...  \n",
      "2994    2500.0\n",
      "2995    1300.0\n",
      "2996       NaN\n",
      "2997       NaN\n",
      "2998     400.0\n",
      "Name: item_price, Length: 2999, dtype: float64\n",
      "0       김가온\n",
      "1       김우찬\n",
      "2       김유찬\n",
      "3       김재현\n",
      "4       김강현\n",
      "       ... \n",
      "2994    김정민\n",
      "2995    김재원\n",
      "2996    김지율\n",
      "2997    김승주\n",
      "2998    정준기\n",
      "Name: customer_name, Length: 2999, dtype: object\n"
     ]
    },
    {
     "data": {
      "text/html": [
       "<div>\n",
       "<style scoped>\n",
       "    .dataframe tbody tr th:only-of-type {\n",
       "        vertical-align: middle;\n",
       "    }\n",
       "\n",
       "    .dataframe tbody tr th {\n",
       "        vertical-align: top;\n",
       "    }\n",
       "\n",
       "    .dataframe thead th {\n",
       "        text-align: right;\n",
       "    }\n",
       "</style>\n",
       "<table border=\"1\" class=\"dataframe\">\n",
       "  <thead>\n",
       "    <tr style=\"text-align: right;\">\n",
       "      <th></th>\n",
       "      <th>purchase_date</th>\n",
       "      <th>item_name</th>\n",
       "      <th>item_price</th>\n",
       "      <th>customer_name</th>\n",
       "    </tr>\n",
       "  </thead>\n",
       "  <tbody>\n",
       "    <tr>\n",
       "      <th>0</th>\n",
       "      <td>2019-06-13 18:02</td>\n",
       "      <td>상품A</td>\n",
       "      <td>100.0</td>\n",
       "      <td>김가온</td>\n",
       "    </tr>\n",
       "    <tr>\n",
       "      <th>1</th>\n",
       "      <td>2019-07-13 13:05</td>\n",
       "      <td>상 품 S</td>\n",
       "      <td>NaN</td>\n",
       "      <td>김우찬</td>\n",
       "    </tr>\n",
       "    <tr>\n",
       "      <th>2</th>\n",
       "      <td>2019-05-11 19:42</td>\n",
       "      <td>상 품 A</td>\n",
       "      <td>NaN</td>\n",
       "      <td>김유찬</td>\n",
       "    </tr>\n",
       "    <tr>\n",
       "      <th>3</th>\n",
       "      <td>2019-02-12 23:40</td>\n",
       "      <td>상품Z</td>\n",
       "      <td>2600.0</td>\n",
       "      <td>김재현</td>\n",
       "    </tr>\n",
       "    <tr>\n",
       "      <th>4</th>\n",
       "      <td>2019-04-22 3:09</td>\n",
       "      <td>상품A</td>\n",
       "      <td>NaN</td>\n",
       "      <td>김강현</td>\n",
       "    </tr>\n",
       "    <tr>\n",
       "      <th>...</th>\n",
       "      <td>...</td>\n",
       "      <td>...</td>\n",
       "      <td>...</td>\n",
       "      <td>...</td>\n",
       "    </tr>\n",
       "    <tr>\n",
       "      <th>2994</th>\n",
       "      <td>2019-02-15 2:56</td>\n",
       "      <td>상품Y</td>\n",
       "      <td>2500.0</td>\n",
       "      <td>김정민</td>\n",
       "    </tr>\n",
       "    <tr>\n",
       "      <th>2995</th>\n",
       "      <td>2019-06-22 4:03</td>\n",
       "      <td>상품M</td>\n",
       "      <td>1300.0</td>\n",
       "      <td>김재원</td>\n",
       "    </tr>\n",
       "    <tr>\n",
       "      <th>2996</th>\n",
       "      <td>2019-03-29 11:14</td>\n",
       "      <td>상품Q</td>\n",
       "      <td>NaN</td>\n",
       "      <td>김지율</td>\n",
       "    </tr>\n",
       "    <tr>\n",
       "      <th>2997</th>\n",
       "      <td>2019-07-14 12:56</td>\n",
       "      <td>상품H</td>\n",
       "      <td>NaN</td>\n",
       "      <td>김승주</td>\n",
       "    </tr>\n",
       "    <tr>\n",
       "      <th>2998</th>\n",
       "      <td>2019-07-21 0:31</td>\n",
       "      <td>상품D</td>\n",
       "      <td>400.0</td>\n",
       "      <td>정준기</td>\n",
       "    </tr>\n",
       "  </tbody>\n",
       "</table>\n",
       "<p>2999 rows × 4 columns</p>\n",
       "</div>"
      ],
      "text/plain": [
       "         purchase_date item_name  item_price customer_name\n",
       "0     2019-06-13 18:02       상품A       100.0           김가온\n",
       "1     2019-07-13 13:05     상 품 S         NaN           김우찬\n",
       "2     2019-05-11 19:42     상 품 A         NaN           김유찬\n",
       "3     2019-02-12 23:40       상품Z      2600.0           김재현\n",
       "4      2019-04-22 3:09       상품A         NaN           김강현\n",
       "...                ...       ...         ...           ...\n",
       "2994   2019-02-15 2:56       상품Y      2500.0           김정민\n",
       "2995   2019-06-22 4:03       상품M      1300.0           김재원\n",
       "2996  2019-03-29 11:14       상품Q         NaN           김지율\n",
       "2997  2019-07-14 12:56       상품H         NaN           김승주\n",
       "2998   2019-07-21 0:31       상품D       400.0           정준기\n",
       "\n",
       "[2999 rows x 4 columns]"
      ]
     },
     "execution_count": 66,
     "metadata": {},
     "output_type": "execute_result"
    }
   ],
   "source": [
    "def change(x):\n",
    "    print(x)\n",
    "    return x\n",
    "\n",
    "uriage.apply(change)"
   ]
  },
  {
   "cell_type": "code",
   "execution_count": 78,
   "metadata": {},
   "outputs": [
    {
     "data": {
      "text/plain": [
       "0       상품a\n",
       "1       상품s\n",
       "2       상품a\n",
       "3       상품z\n",
       "4       상품a\n",
       "       ... \n",
       "2994    상품y\n",
       "2995    상품m\n",
       "2996    상품q\n",
       "2997    상품h\n",
       "2998    상품d\n",
       "Name: item_name, Length: 2999, dtype: object"
      ]
     },
     "execution_count": 78,
     "metadata": {},
     "output_type": "execute_result"
    }
   ],
   "source": [
    "# item_name에 있는 공백을 제거 한다.\n",
    "# 공백을 제거 하는 함수 : strip() -> 문자열의 좌우 공백을 제거 ->\n",
    "# 현재 데이터에서는 strip() 사용불가(가운데쪽 공백도 제거해야하므로)\n",
    "# 문자열 사이의 공백까지 제거하려면 사용할 함수의 이름?\n",
    "# replace(바꿀 문자열, 대체할 문자열)\n",
    "# replace(\" \", \"\" )\n",
    "uriage[\"item_name\"].str.replace(\" \", \"\").str.lower()  # uriage[\"item_name\"].replace(\" \", \"\") 하면 공백아 안 없어짐"
   ]
  },
  {
   "cell_type": "code",
   "execution_count": 71,
   "metadata": {},
   "outputs": [
    {
     "data": {
      "text/plain": [
       "0       상품a\n",
       "1       상품s\n",
       "2       상품a\n",
       "3       상품z\n",
       "4       상품a\n",
       "       ... \n",
       "2994    상품y\n",
       "2995    상품m\n",
       "2996    상품q\n",
       "2997    상품h\n",
       "2998    상품d\n",
       "Name: item_name, Length: 2999, dtype: object"
      ]
     },
     "execution_count": 71,
     "metadata": {},
     "output_type": "execute_result"
    }
   ],
   "source": [
    "def change(x):\n",
    "    result = x.replace(\" \", \"\")\n",
    "    result = result.lower()\n",
    "    return result\n",
    "\n",
    "uriage['item_name'].apply(change)"
   ]
  },
  {
   "cell_type": "code",
   "execution_count": 81,
   "metadata": {},
   "outputs": [],
   "source": [
    "uriage['item_name'] = uriage['item_name'].apply(lambda x : x.replace(\" \", \"\").upper())"
   ]
  },
  {
   "cell_type": "code",
   "execution_count": 84,
   "metadata": {},
   "outputs": [],
   "source": [
    "# item_name을 기준으로 오름차순 정렬\n",
    "uriage.sort_values(\"item_name\", inplace=True)"
   ]
  },
  {
   "cell_type": "code",
   "execution_count": 86,
   "metadata": {},
   "outputs": [],
   "source": [
    "# 인덱스를 초기화 -> 기존의 인덱스는 삭제\n",
    "uriage.reset_index(drop=True, inplace=True)"
   ]
  },
  {
   "cell_type": "code",
   "execution_count": 89,
   "metadata": {},
   "outputs": [
    {
     "data": {
      "text/plain": [
       "False    2612\n",
       "True      387\n",
       "Name: item_price, dtype: int64"
      ]
     },
     "execution_count": 89,
     "metadata": {},
     "output_type": "execute_result"
    }
   ],
   "source": [
    "uriage['item_price'].isna().value_counts()  #item_price 부분의 결측치 수 확인"
   ]
  }
 ],
 "metadata": {
  "kernelspec": {
   "display_name": "Python 3",
   "language": "python",
   "name": "python3"
  },
  "language_info": {
   "codemirror_mode": {
    "name": "ipython",
    "version": 3
   },
   "file_extension": ".py",
   "mimetype": "text/x-python",
   "name": "python",
   "nbconvert_exporter": "python",
   "pygments_lexer": "ipython3",
   "version": "3.11.2"
  },
  "orig_nbformat": 4
 },
 "nbformat": 4,
 "nbformat_minor": 2
}

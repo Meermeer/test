{
 "cells": [
  {
   "cell_type": "code",
   "execution_count": 6,
   "metadata": {},
   "outputs": [
    {
     "name": "stdout",
     "output_type": "stream",
     "text": [
      "10\n",
      "test\n",
      "<class 'int'>\n",
      "<class 'str'>\n"
     ]
    }
   ],
   "source": [
    "# 변수 선언과 동시에 값을 할당\n",
    "a = 10\n",
    "b = \"test\"\n",
    "\n",
    "# 두 변수를 출력\n",
    "print(a)\n",
    "print(b)\n",
    "# 두 변수의 데이터의 형태 출력\n",
    "print(type(a))\n",
    "print(type(b))"
   ]
  },
  {
   "cell_type": "code",
   "execution_count": 7,
   "metadata": {},
   "outputs": [
    {
     "name": "stdout",
     "output_type": "stream",
     "text": [
      "10\n",
      "<class 'str'>\n"
     ]
    }
   ],
   "source": [
    "# 숫자 형태의 데이터에 \"\"로 묶어주면 문자열 데이터로 데이터 대입\n",
    "c = \"10\"\n",
    "\n",
    "print(c)\n",
    "print(type(c))"
   ]
  },
  {
   "attachments": {},
   "cell_type": "markdown",
   "metadata": {},
   "source": [
    "#연산자"
   ]
  },
  {
   "cell_type": "code",
   "execution_count": 9,
   "metadata": {},
   "outputs": [
    {
     "name": "stdout",
     "output_type": "stream",
     "text": [
      "10 4 21 2.3333333333333335 2 1 343\n"
     ]
    }
   ],
   "source": [
    "# 산술 연산자\n",
    "x = 7\n",
    "y = 3\n",
    "\n",
    "print(x+y, x-y, x*y, x/y, x//y, x%y, x**y)"
   ]
  },
  {
   "cell_type": "code",
   "execution_count": 10,
   "metadata": {},
   "outputs": [
    {
     "name": "stdout",
     "output_type": "stream",
     "text": [
      "7\n",
      "8\n",
      "5\n",
      "10\n",
      "3.3333333333333335\n",
      "5.333333333333334\n",
      "3.3333333333333335\n"
     ]
    }
   ],
   "source": [
    "# 대입 연산자\n",
    "# +=, -=, *=, /=, //=, %=, **=\n",
    "# 산술 연산자와의 차이는 기준이 되는 변수의 데이터를 변경\n",
    "print(x)    # 7이 출력된다\n",
    "x += 1      # x = x + 1\n",
    "print(x)    # 8이 출력\n",
    "x -= 3      # x = x - 3\n",
    "print(x)    # 5가 출력\n",
    "x *= 2      # x = x * 2\n",
    "print(x)    # 10이 출력\n",
    "x /= 3      # x = x / 3\n",
    "print(x)    # 3.33333333.... 출력\n",
    "print(x+2)  # 5.33333333.... 출력\n",
    "print(x)    # 3.33333333.... 출력, 위의 x + 2는 x에 2를 더한 값을 출력. x 데이터의 변화는 없다"
   ]
  },
  {
   "cell_type": "code",
   "execution_count": 11,
   "metadata": {},
   "outputs": [
    {
     "name": "stdout",
     "output_type": "stream",
     "text": [
      "False\n",
      "True\n",
      "True\n",
      "False\n",
      "True\n",
      "False\n"
     ]
    }
   ],
   "source": [
    "# 비교 연산자\n",
    "# 데이터의 비교를 하여 논리값을 출력\n",
    "# 논리값 bool의 형태 (True, False)\n",
    "x = 7\n",
    "y = 3\n",
    "\n",
    "print(x == y)   # False\n",
    "print(x != y)   # True\n",
    "print(x > y)    # True\n",
    "print(x < y)    # False\n",
    "print(x >= y)   # True\n",
    "print(x <= y)   # False"
   ]
  },
  {
   "cell_type": "code",
   "execution_count": 12,
   "metadata": {},
   "outputs": [
    {
     "name": "stdout",
     "output_type": "stream",
     "text": [
      "True\n",
      "False\n",
      "False\n"
     ]
    }
   ],
   "source": [
    "# and, or, not\n",
    "# and : 두 조건이 모두 참인 경우에 참, 나머지 경우는 모두 거짓\n",
    "print(True and True)\n",
    "print(True and False)\n",
    "print(False and False)"
   ]
  },
  {
   "cell_type": "code",
   "execution_count": 14,
   "metadata": {},
   "outputs": [
    {
     "name": "stdout",
     "output_type": "stream",
     "text": [
      "True\n",
      "True\n",
      "False\n"
     ]
    }
   ],
   "source": [
    "# or : 두 조건중 하나만 참이면 참을 출력, 두 조건이 모두 거짓인 경우에만 거짓을 출력\n",
    "print(True or True)\n",
    "print(True or False)\n",
    "print(False or False)"
   ]
  },
  {
   "cell_type": "code",
   "execution_count": 15,
   "metadata": {},
   "outputs": [
    {
     "name": "stdout",
     "output_type": "stream",
     "text": [
      "False\n"
     ]
    }
   ],
   "source": [
    "# not : True는 False로, False는 True로 출력\n",
    "print(not(True))"
   ]
  },
  {
   "cell_type": "markdown",
   "metadata": {},
   "source": [
    "#조건문"
   ]
  },
  {
   "attachments": {},
   "cell_type": "markdown",
   "metadata": {},
   "source": [
    "if문\n",
    "\n",
    "    1. if 뒤의 조건식이 참인 경우 코드가 실행 된다.\n",
    "\n",
    "    2. 조건식이 거짓인 경우에는 코드가 실행되지 않는다.\n",
    "\n",
    "    3. 거짓인 경우 코드를 실행하려면 else 구분이 필요하다.\n",
    "    \n",
    "    4. 조건식이 여러개인 경우 elif 조건식의 형태로 구문을 만들어준다."
   ]
  },
  {
   "cell_type": "code",
   "execution_count": 17,
   "metadata": {},
   "outputs": [
    {
     "name": "stdout",
     "output_type": "stream",
     "text": [
      "프로그램 종료\n"
     ]
    }
   ],
   "source": [
    "a = 15\n",
    "# a가 10보다 작은 경우에는 첫 번째 print를 진행\n",
    "# a가 10보다 크거나 같은 경우에는 첫 번째 print를 실행하지 않는다.\n",
    "if a < 10 :\n",
    "    print(\"a는 10보다 작다\")\n",
    "\n",
    "print(\"프로그램 종료\")"
   ]
  },
  {
   "cell_type": "code",
   "execution_count": 18,
   "metadata": {},
   "outputs": [
    {
     "name": "stdout",
     "output_type": "stream",
     "text": [
      "a는 10보다 크거나 같다\n",
      "프로그램 종료\n"
     ]
    }
   ],
   "source": [
    "# ㅑㄹ ~ else문\n",
    "a = 15\n",
    "\n",
    "if a < 10:\n",
    "    print(\"a는 10보다 작다\")\n",
    "else : \n",
    "    print(\"a는 10보다 크거나 같다\")\n",
    "\n",
    "print(\"프로그램 종료\")"
   ]
  },
  {
   "cell_type": "code",
   "execution_count": 22,
   "metadata": {},
   "outputs": [
    {
     "name": "stdout",
     "output_type": "stream",
     "text": [
      "C\n",
      "프로그램 종료\n"
     ]
    }
   ],
   "source": [
    "score = int(input(\"점수를 입력하세요\"))\n",
    "\n",
    "if score >= 90:\n",
    "    print('A')\n",
    "elif score >= 80:\n",
    "    print('B')\n",
    "elif score >= 70:\n",
    "    print('C')\n",
    "else : \n",
    "    print('F')\n",
    "\n",
    "print(\"프로그램 종료\")"
   ]
  },
  {
   "attachments": {},
   "cell_type": "markdown",
   "metadata": {},
   "source": [
    "#반복문"
   ]
  },
  {
   "cell_type": "code",
   "execution_count": 25,
   "metadata": {},
   "outputs": [
    {
     "name": "stdout",
     "output_type": "stream",
     "text": [
      "range(1, 11, 2)\n",
      "[1, 3, 5, 7, 9]\n"
     ]
    }
   ],
   "source": [
    "# range(시작값, 종료값, 증가값)\n",
    "print(range(1,11,2))\n",
    "print(list(range(1,11,2)))"
   ]
  },
  {
   "cell_type": "code",
   "execution_count": 29,
   "metadata": {},
   "outputs": [
    {
     "name": "stdout",
     "output_type": "stream",
     "text": [
      "1\n",
      "2\n",
      "3\n",
      "4\n",
      "5\n",
      "6\n",
      "7\n",
      "8\n",
      "9\n",
      "10\n",
      "프로그램 종료\n"
     ]
    }
   ],
   "source": [
    "#for문\n",
    "for i in range(1, 11, 1):\n",
    "    print(i)\n",
    "print(\"프로그램 종료\")"
   ]
  },
  {
   "cell_type": "code",
   "execution_count": 30,
   "metadata": {},
   "outputs": [
    {
     "name": "stdout",
     "output_type": "stream",
     "text": [
      "0\n",
      "1\n",
      "2\n",
      "3\n",
      "4\n",
      "5\n",
      "6\n",
      "7\n",
      "8\n",
      "9\n"
     ]
    }
   ],
   "source": [
    "for i in range(10):\n",
    "    print(i)"
   ]
  },
  {
   "cell_type": "code",
   "execution_count": 31,
   "metadata": {},
   "outputs": [
    {
     "name": "stdout",
     "output_type": "stream",
     "text": [
      "10\n",
      "8\n",
      "6\n",
      "4\n",
      "2\n"
     ]
    }
   ],
   "source": [
    "for i in range(10, 1, -2):\n",
    "    print(i)"
   ]
  },
  {
   "cell_type": "code",
   "execution_count": 32,
   "metadata": {},
   "outputs": [
    {
     "name": "stdout",
     "output_type": "stream",
     "text": [
      "55\n"
     ]
    }
   ],
   "source": [
    "# 1부터 10까지의 합계를 구하시오\n",
    "# 10번 반복\n",
    "\n",
    "# 초기의 합계 값 지정\n",
    "result = 0\n",
    "\n",
    "# 반복문 시작\n",
    "for i in range(1, 11, 1):\n",
    "    # 합계 값에 i을 더해준다\n",
    "    result = result + i\n",
    "    # result += 1\n",
    "\n",
    "print(result)"
   ]
  },
  {
   "cell_type": "code",
   "execution_count": 34,
   "metadata": {},
   "outputs": [
    {
     "name": "stdout",
     "output_type": "stream",
     "text": [
      "650\n"
     ]
    }
   ],
   "source": [
    "# 1부터 50까지의 합계룰 구한다.\n",
    "# 1부터 50까지 짝수의 합계만 구하는 방법은?\n",
    "\n",
    "result = 0\n",
    "\n",
    "# case1 (for문)\n",
    "# for i in range(2, 51, 2):\n",
    "#        result = result + i\n",
    "# print(result)\n",
    "\n",
    "# case2 (for문 if문)\n",
    "for i in range(1, 51, 1):\n",
    "    # 짝수의 조건 : 2로 나눴을때 나머지가 0인 경우\n",
    "    if i % 2 == 0:\n",
    "        result = result + i\n",
    "print(result)"
   ]
  },
  {
   "cell_type": "code",
   "execution_count": 36,
   "metadata": {},
   "outputs": [
    {
     "name": "stdout",
     "output_type": "stream",
     "text": [
      "1 4\n",
      "2 3\n",
      "3 2\n",
      "4 1\n",
      "4 6\n",
      "5 5\n",
      "6 4\n"
     ]
    }
   ],
   "source": [
    "# 주사위 2개를 굴려서 두 주사위의 합계가 5의 배수인 경우 두 주사위의 값을 출력하시오\n",
    "# 경우의 수 : 36번 -> 6번의 경우의 수 * 6번의 경우의 수\n",
    "# 다중 for문 +  if문\n",
    "for i in range(1,7,1):\n",
    "    for j in range(1,7,1):\n",
    "        # 두 주사위의 합계 \n",
    "        sum = i + j\n",
    "        # 조건 : 5의 배수인 경우\n",
    "        if (sum) % 5 == 0:\n",
    "            print(i, j)"
   ]
  },
  {
   "attachments": {},
   "cell_type": "markdown",
   "metadata": {},
   "source": [
    "## 문제\n",
    "페르마의 마지막 정리를 증명하시오\n",
    "    a^n + b^n = c^n 이 수식에서 n의 값이 2보다 큰 자연수이면 a, b, c의 자연수의 값은 존재하지 않는다.\n",
    "    n의 값이 3인 경우 a, b, c가 1부터 10까지 이 정리가 사실임을 증명하시오\n",
    "\n",
    "다중 for문과 if문을 사용"
   ]
  },
  {
   "cell_type": "code",
   "execution_count": 43,
   "metadata": {},
   "outputs": [
    {
     "name": "stdout",
     "output_type": "stream",
     "text": [
      "페르마의 마지막 정리는 참입니다\n"
     ]
    }
   ],
   "source": [
    "# 페르마의 마지막 정리\n",
    "\n",
    "n = 3\n",
    "result = 0\n",
    "\n",
    "# 1000번을 반복하는 반복문을 생성\n",
    "for a in range(1,11,1):\n",
    "    for b in range(1,11,1):\n",
    "        for c in range(1,11,1):\n",
    "            # 조건 생성 -> a**n + b**n == c**n\n",
    "            if (a**n + b**n == c**n):\n",
    "                print(a, b, c)\n",
    "                print(\"페르마의 마지막 정리는 거짓입니다\")\n",
    "                result = result + 1\n",
    "if (result == 0):\n",
    "    print(\"페르마의 마지막 정리는 참입니다\")\n"
   ]
  },
  {
   "cell_type": "code",
   "execution_count": 45,
   "metadata": {},
   "outputs": [
    {
     "name": "stdout",
     "output_type": "stream",
     "text": [
      "1\n",
      "2\n",
      "3\n",
      "4\n",
      "5\n",
      "6\n",
      "7\n",
      "8\n",
      "9\n",
      "10\n"
     ]
    }
   ],
   "source": [
    "# while문\n",
    "\n",
    "# 초기값 지정\n",
    "i = 0\n",
    "\n",
    "while i < 10:\n",
    "    i = i+1\n",
    "    print(i)"
   ]
  },
  {
   "cell_type": "code",
   "execution_count": 49,
   "metadata": {},
   "outputs": [
    {
     "name": "stdout",
     "output_type": "stream",
     "text": [
      "55\n",
      "65\n"
     ]
    }
   ],
   "source": [
    "# while문을 이용하여 1부터 10까지의 합계\n",
    "\n",
    "result = 0\n",
    "resulto = 0\n",
    "i = 1\n",
    "\n",
    "#순서의 중요성. i를 증가시키는걸 마지막으로 적을것.\n",
    "while i <= 10:\n",
    "    result = result+i\n",
    "    i = i+1\n",
    "    resulto = resulto+i\n",
    "\n",
    "print(result)\n",
    "print(resulto)"
   ]
  },
  {
   "cell_type": "code",
   "execution_count": 50,
   "metadata": {},
   "outputs": [
    {
     "name": "stdout",
     "output_type": "stream",
     "text": [
      "3\n",
      "4\n",
      "5\n",
      "6\n",
      "7\n",
      "8\n",
      "9\n",
      "10\n"
     ]
    }
   ],
   "source": [
    "# continue, break\n",
    "# continue : 반복문으로 돌아간다.\n",
    "# break : 반복문 종료\n",
    "\n",
    "for i in range(1, 11, 1):\n",
    "    if i < 3:\n",
    "        continue\n",
    "    print(i)"
   ]
  },
  {
   "attachments": {},
   "cell_type": "markdown",
   "metadata": {},
   "source": [
    "## 문제\n",
    "- 1부터 1000까지의 합을 구하는데 합계가 900이 넘어가는 최초의 숫자는 무엇인가?\n",
    "    1. 합계라는 변수를 하나 지정 0을 대입\n",
    "    2. for, while문을 사용하여 1붙 1000까지의 합을 구하는 반복문 생성\n",
    "    3. 합계가 900이 넘어가는 순간 break\n",
    "    4. break 당시의 i값을 출력"
   ]
  },
  {
   "cell_type": "code",
   "execution_count": 68,
   "metadata": {},
   "outputs": [
    {
     "name": "stdout",
     "output_type": "stream",
     "text": [
      "42\n",
      "903\n",
      "42 903\n"
     ]
    }
   ],
   "source": [
    "#합계 변수를 하나 생성\n",
    "result = 0\n",
    "result2 = 0\n",
    "\n",
    "# for문\n",
    "for i in range(1, 1001, 1):\n",
    "    result = result+i\n",
    "    # 합계가 900이 넘어가면 반복문 종료\n",
    "    if result > 900:\n",
    "        print(i)\n",
    "        print(result)\n",
    "        break\n",
    "\n",
    "j = 0\n",
    "while j <= 1000:\n",
    "    result2 = result2 + j\n",
    "    if (result2 > 900):\n",
    "        print(j, result2)\n",
    "        break\n",
    "    j = j+1\n"
   ]
  },
  {
   "attachments": {},
   "cell_type": "markdown",
   "metadata": {},
   "source": [
    "#튜플"
   ]
  },
  {
   "cell_type": "code",
   "execution_count": 69,
   "metadata": {},
   "outputs": [
    {
     "name": "stdout",
     "output_type": "stream",
     "text": [
      "(4, 'Hello')\n",
      "(3, 3.14)\n",
      "(4, 'Hello', 3, 3.14)\n",
      "(4, 'Hello', 4, 'Hello', 4, 'Hello')\n"
     ]
    }
   ],
   "source": [
    "a = (4, \"Hello\")\n",
    "b = (3, 3.14)\n",
    "c = a + b\n",
    "d = a * 3\n",
    "print(a)\n",
    "print(b)\n",
    "print(c)\n",
    "print(d)"
   ]
  },
  {
   "cell_type": "code",
   "execution_count": 71,
   "metadata": {},
   "outputs": [
    {
     "name": "stdout",
     "output_type": "stream",
     "text": [
      "4\n",
      "H\n"
     ]
    }
   ],
   "source": [
    "# 튶ㄹ과 같은 여러개의 원소를 담아내고 있는 변수들은 위치 값으로 각각의 원소를 출력할수 있다.\n",
    "print(a[0])\n",
    "print(a[1][0])"
   ]
  },
  {
   "cell_type": "code",
   "execution_count": 73,
   "metadata": {},
   "outputs": [
    {
     "name": "stdout",
     "output_type": "stream",
     "text": [
      "(20, 30, 40)\n",
      "(20, 30, 40, 50)\n",
      "(10, 20, 30)\n"
     ]
    }
   ],
   "source": [
    "a = (10, 20, 30, 40, 50)\n",
    "\n",
    "# 2번째 원소부터 4번째 원소까지 출력\n",
    "print(a[1:4])\n",
    "\n",
    "print(a[1:])    # 2번째부터 마지막까지 출력\n",
    "print(a[:3])    # 처음부터 3번째 항목까지 출력"
   ]
  },
  {
   "attachments": {},
   "cell_type": "markdown",
   "metadata": {},
   "source": [
    "#리스트"
   ]
  },
  {
   "cell_type": "code",
   "execution_count": 74,
   "metadata": {},
   "outputs": [
    {
     "name": "stdout",
     "output_type": "stream",
     "text": [
      "[10, 20, 30, 40]\n",
      "[40, 30, 20, 10]\n"
     ]
    }
   ],
   "source": [
    "a = [20, 10, 40, 30]\n",
    "b = [10, 20, 30, 40]\n",
    "\n",
    "# a 리스트의 순서를 오름차순으로 변경\n",
    "a.sort()\n",
    "# b 리스트는 순서를 역순으로 변경\n",
    "b.reverse()\n",
    "\n",
    "print(a)\n",
    "print(b)"
   ]
  },
  {
   "cell_type": "code",
   "execution_count": 77,
   "metadata": {},
   "outputs": [
    {
     "name": "stdout",
     "output_type": "stream",
     "text": [
      "[20, 10, 40]\n",
      "[10, 20, 30, 40, 22]\n"
     ]
    }
   ],
   "source": [
    "a = [20, 10, 40, 30]\n",
    "b = [10, 20, 30, 40]\n",
    "# a 리스트에서 마지막 항목 삭제\n",
    "a.pop()\n",
    "# b 리스트에는 22라는 항목을 마지막 항에 추가\n",
    "b.append(22)\n",
    "\n",
    "print(a)\n",
    "print(b)"
   ]
  },
  {
   "cell_type": "code",
   "execution_count": 79,
   "metadata": {},
   "outputs": [
    {
     "name": "stdout",
     "output_type": "stream",
     "text": [
      "[1, 2, 3, 4, 5, 6, 7, 8, 9, 10]\n"
     ]
    }
   ],
   "source": [
    "x = []\n",
    "\n",
    "for i in range(1, 11, 1):\n",
    "    x.append(i)\n",
    "print(x)"
   ]
  },
  {
   "cell_type": "code",
   "execution_count": 81,
   "metadata": {},
   "outputs": [
    {
     "name": "stdout",
     "output_type": "stream",
     "text": [
      "30\n",
      "20\n",
      "80\n",
      "10\n",
      "30\n",
      "20\n",
      "80\n",
      "10\n"
     ]
    }
   ],
   "source": [
    "y = [30, 20, 80, 10]\n",
    "\n",
    "for i in y:\n",
    "    print(i)\n",
    "\n",
    "for i in range(0,len(y), 1):\n",
    "    print(y[i])"
   ]
  },
  {
   "attachments": {},
   "cell_type": "markdown",
   "metadata": {},
   "source": [
    "- 1부터 70까지 숫자들 중에 3의 배수를 리스트의 형태로 만들어서 출력\n",
    "    1. 비어있는 리스트 하나 생성\n",
    "    2. 1부터 70까지 반복을 하는 반복문 생성\n",
    "    3. 1부터 70까지의 항목들을 비어있는 리스트에 추가\n",
    "    4. 3의 배수인 값들만 리스트 추가"
   ]
  },
  {
   "cell_type": "code",
   "execution_count": 83,
   "metadata": {},
   "outputs": [
    {
     "name": "stdout",
     "output_type": "stream",
     "text": [
      "[3, 6, 9, 12, 15, 18, 21, 24, 27, 30, 33, 36, 39, 42, 45, 48, 51, 54, 57, 60, 63, 66, 69]\n"
     ]
    }
   ],
   "source": [
    "# 비어있는 리스트 생성\n",
    "x = []\n",
    "\n",
    "# 1부터 70까지 반복문 생성\n",
    "for i in range(1, 71, 1):\n",
    "    # i의 값이 3의 배수인 경우\n",
    "    if i%3 == 0:\n",
    "        x.append(i)\n",
    "\n",
    "print(x)\n"
   ]
  },
  {
   "cell_type": "code",
   "execution_count": 85,
   "metadata": {},
   "outputs": [
    {
     "name": "stdout",
     "output_type": "stream",
     "text": [
      "[3, 6, 9, 12, 15, 18, 21, 24, 27, 30, 33, 36, 39, 42, 45, 48, 51, 54, 57, 60, 63, 66, 69]\n"
     ]
    }
   ],
   "source": [
    "# while문인 경우\n",
    "# 비어있는 리스트 생성\n",
    "_list = []\n",
    "# 초기값 생성\n",
    "i = 1\n",
    "\n",
    "# while문 생성\n",
    "while i <= 70:\n",
    "    # 비어있는 리스트에 i 항목 추가\n",
    "    # 3의 ㅂ수 조건식을 생성\n",
    "    if i % 3 == 0:\n",
    "        _list.append(i)\n",
    "    i = i+1\n",
    "\n",
    "print(_list)"
   ]
  },
  {
   "attachments": {},
   "cell_type": "markdown",
   "metadata": {},
   "source": [
    "#딕셔너리"
   ]
  },
  {
   "cell_type": "code",
   "execution_count": 87,
   "metadata": {},
   "outputs": [
    {
     "name": "stdout",
     "output_type": "stream",
     "text": [
      "{'name': 'test', 'age': 20, 'phone': '01012345678'}\n"
     ]
    }
   ],
   "source": [
    "# 사전형 데이터\n",
    "# {key1 : value1, key2 : value2, ...}\n",
    "\n",
    "dict = {'name' : 'test', 'age' : 20, 'phone' : '01012345678'}\n",
    "\n",
    "print(dict)"
   ]
  },
  {
   "cell_type": "code",
   "execution_count": 88,
   "metadata": {},
   "outputs": [
    {
     "name": "stdout",
     "output_type": "stream",
     "text": [
      "test\n"
     ]
    }
   ],
   "source": [
    "print(dict['name'])"
   ]
  },
  {
   "cell_type": "code",
   "execution_count": 89,
   "metadata": {},
   "outputs": [
    {
     "name": "stdout",
     "output_type": "stream",
     "text": [
      "{'name': 'test', 'age': 20, 'phone': '01012345678', 'area': 'seoul'}\n"
     ]
    }
   ],
   "source": [
    "# 새로운 키 : 밸류 를 추가\n",
    "# 새로운 키값은 입력\n",
    "dict['area'] = 'seoul'\n",
    "print(dict)"
   ]
  },
  {
   "cell_type": "code",
   "execution_count": 90,
   "metadata": {},
   "outputs": [
    {
     "name": "stdout",
     "output_type": "stream",
     "text": [
      "{'name': 'test', 'age': 30, 'phone': '01012345678', 'area': 'seoul'}\n"
     ]
    }
   ],
   "source": [
    "# 기존의 키 값에 있는 밸류를 수정\n",
    "dict['age'] = 30\n",
    "print(dict)"
   ]
  },
  {
   "cell_type": "code",
   "execution_count": 91,
   "metadata": {},
   "outputs": [
    {
     "name": "stdout",
     "output_type": "stream",
     "text": [
      "{'name': 'test', 'age': 30, 'area': 'seoul'}\n"
     ]
    }
   ],
   "source": [
    "# 키 값을 삭제\n",
    "del(dict['phone'])\n",
    "print(dict)"
   ]
  },
  {
   "cell_type": "code",
   "execution_count": 93,
   "metadata": {},
   "outputs": [
    {
     "name": "stdout",
     "output_type": "stream",
     "text": [
      "3\n"
     ]
    }
   ],
   "source": [
    "# DB와 phthon을 연동하여 데이터를 받으면\n",
    "# 데이터의 형태 [{}, {}]\n",
    "\n",
    "#리스트 안에 딕셔너리\n",
    "test_data = [\n",
    "    {\n",
    "        \"name\" : \"test\",\n",
    "        \"age\" : 20\n",
    "    },\n",
    "    {\n",
    "        \"name\" : \"test2\",\n",
    "        \"age\" : 30\n",
    "    },\n",
    "    {\n",
    "        \"name\" : \"test3\",\n",
    "        \"age\" : 25\n",
    "    }\n",
    "]\n",
    "\n",
    "print(len(test_data))"
   ]
  },
  {
   "cell_type": "code",
   "execution_count": 95,
   "metadata": {},
   "outputs": [
    {
     "name": "stdout",
     "output_type": "stream",
     "text": [
      "{'name': 'test2', 'age': 30}\n",
      "test2\n"
     ]
    }
   ],
   "source": [
    "# test_data에서 \"test2\"라는 항목을 출력하려면?\n",
    "print(test_data[1])\n",
    "print(test_data[1][\"name\"])"
   ]
  },
  {
   "attachments": {},
   "cell_type": "markdown",
   "metadata": {},
   "source": [
    "- test_data에서 연령대가 20대인 사람의 이름을 리스트로 출력하시오\n",
    "    1. 비어있는 리스트를 생성\n",
    "    2. test_data의 항목들을 반복문을 이용하여 출력\n",
    "    3. 각 항목들의 나이를 출력\n",
    "    4. 조건을 생성하여 연령대가 20대인 항목을 출력\n",
    "    5. 20대인 항목에서 이름의 값만 출력\n",
    "    6. 해당하는 이름들을 리스트에 추가"
   ]
  },
  {
   "cell_type": "code",
   "execution_count": 101,
   "metadata": {},
   "outputs": [
    {
     "name": "stdout",
     "output_type": "stream",
     "text": [
      "test\n",
      "test3\n"
     ]
    }
   ],
   "source": [
    "test_data = [\n",
    "    {\n",
    "        \"name\" : \"test\",\n",
    "        \"age\" : 20\n",
    "    },\n",
    "    {\n",
    "        \"name\" : \"test2\",\n",
    "        \"age\" : 30\n",
    "    },\n",
    "    {\n",
    "        \"name\" : \"test3\",\n",
    "        \"age\" : 25\n",
    "    }\n",
    "]\n",
    "\n",
    "test_d = []\n",
    "#for i in range(0,len(test_data),1):\n",
    "#    print(test_data[i])\n",
    "#    print(test_data[i][\"age\"])\n",
    "\n",
    "#for i in test_data:\n",
    "#    print(i)\n",
    "#    print(i[\"age\"])\n",
    "\n",
    "\n",
    "for i in range(0,len(test_data),1):\n",
    "    # 연령대가 20대인 조건 생성\n",
    "    # 나이가 20이상 '그리고' 30 미만인 경우\n",
    "    if test_data[i]['age'] >= 20 and test_data[i]['age'] < 30:\n",
    "        print(test_data[i]['name'])\n",
    "        test_d.append(test_data[i]['name'])"
   ]
  },
  {
   "cell_type": "code",
   "execution_count": 102,
   "metadata": {},
   "outputs": [
    {
     "name": "stdout",
     "output_type": "stream",
     "text": [
      "test\n",
      "test3\n"
     ]
    }
   ],
   "source": [
    "test_data = [\n",
    "    {\n",
    "        \"name\" : \"test\",\n",
    "        \"age\" : 20\n",
    "    },\n",
    "    {\n",
    "        \"name\" : \"test2\",\n",
    "        \"age\" : 30\n",
    "    },\n",
    "    {\n",
    "        \"name\" : \"test3\",\n",
    "        \"age\" : 25\n",
    "    }\n",
    "]\n",
    "\n",
    "test_d = []\n",
    "\n",
    "for i in test_data:\n",
    "    # 연령대가 20대인 조건 생성\n",
    "    # 나이가 20이상 '그리고' 30 미만인 경우\n",
    "    if i['age'] >= 20 and i['age'] < 30:\n",
    "        print(i['name'])\n",
    "        test_d.append(i['name'])"
   ]
  },
  {
   "attachments": {},
   "cell_type": "markdown",
   "metadata": {},
   "source": [
    "# 함수"
   ]
  },
  {
   "cell_type": "code",
   "execution_count": 2,
   "metadata": {},
   "outputs": [
    {
     "name": "stdout",
     "output_type": "stream",
     "text": [
      "HELLO\n",
      "hello\n"
     ]
    }
   ],
   "source": [
    "# 문자를 대문자나 소문자로 변경하는 함수\n",
    "\n",
    "a = \"Hello\"\n",
    "# 문자를 모두 대문자로 변경\n",
    "print(a.upper())\n",
    "# 문자를 모두 소문자로 변경\n",
    "print(a.lower())"
   ]
  },
  {
   "cell_type": "code",
   "execution_count": 3,
   "metadata": {},
   "outputs": [
    {
     "name": "stdout",
     "output_type": "stream",
     "text": [
      "Hello World\n"
     ]
    }
   ],
   "source": [
    "b = \"hello world\"\n",
    "# 단어의 첫글자만 대문자로 변경 함수\n",
    "print(b.title())"
   ]
  },
  {
   "cell_type": "code",
   "execution_count": 6,
   "metadata": {},
   "outputs": [
    {
     "data": {
      "text/plain": [
       "'Hello World'"
      ]
     },
     "execution_count": 6,
     "metadata": {},
     "output_type": "execute_result"
    }
   ],
   "source": [
    "# 좌우의 공백을 제거하는 함수\n",
    "# strip()\n",
    "a = \"      Hello World    \"\n",
    "a.strip()"
   ]
  },
  {
   "cell_type": "code",
   "execution_count": 7,
   "metadata": {},
   "outputs": [
    {
     "data": {
      "text/plain": [
       "'Hello World    '"
      ]
     },
     "execution_count": 7,
     "metadata": {},
     "output_type": "execute_result"
    }
   ],
   "source": [
    "# 좌측 공백만 제거\n",
    "a.lstrip()"
   ]
  },
  {
   "cell_type": "code",
   "execution_count": 8,
   "metadata": {},
   "outputs": [
    {
     "data": {
      "text/plain": [
       "'      Hello World'"
      ]
     },
     "execution_count": 8,
     "metadata": {},
     "output_type": "execute_result"
    }
   ],
   "source": [
    "# 우측 공백만 제거\n",
    "a.rstrip()"
   ]
  },
  {
   "cell_type": "code",
   "execution_count": 9,
   "metadata": {},
   "outputs": [
    {
     "data": {
      "text/plain": [
       "'2.11'"
      ]
     },
     "execution_count": 9,
     "metadata": {},
     "output_type": "execute_result"
    }
   ],
   "source": [
    "b = \"$2.11\"\n",
    "# b라는 변수에 있는 '$' 표시를 제거\n",
    "b.lstrip('$')"
   ]
  },
  {
   "cell_type": "code",
   "execution_count": 10,
   "metadata": {},
   "outputs": [
    {
     "data": {
      "text/plain": [
       "'2.$$11'"
      ]
     },
     "execution_count": 10,
     "metadata": {},
     "output_type": "execute_result"
    }
   ],
   "source": [
    "b = \"$2.$$11\"\n",
    "b.strip('$')"
   ]
  },
  {
   "cell_type": "code",
   "execution_count": 11,
   "metadata": {},
   "outputs": [
    {
     "data": {
      "text/plain": [
       "'2.$$11'"
      ]
     },
     "execution_count": 11,
     "metadata": {},
     "output_type": "execute_result"
    }
   ],
   "source": [
    "b.lstrip('$')"
   ]
  },
  {
   "cell_type": "code",
   "execution_count": 13,
   "metadata": {},
   "outputs": [
    {
     "data": {
      "text/plain": [
       "'-2.--11'"
      ]
     },
     "execution_count": 13,
     "metadata": {},
     "output_type": "execute_result"
    }
   ],
   "source": [
    "# 특정한 단어를 대체하는 함수\n",
    "# replace(기준 단어, 대체할 단어)\n",
    "# b 변수의 '$' 표기를 '-'변경\n",
    "b.replace('$', '-')"
   ]
  },
  {
   "cell_type": "code",
   "execution_count": 14,
   "metadata": {},
   "outputs": [
    {
     "data": {
      "text/plain": [
       "'2.11'"
      ]
     },
     "execution_count": 14,
     "metadata": {},
     "output_type": "execute_result"
    }
   ],
   "source": [
    "# b 변수의 '$' 표기를 삭제하려면?\n",
    "b.replace('$', '')"
   ]
  },
  {
   "cell_type": "code",
   "execution_count": 15,
   "metadata": {},
   "outputs": [
    {
     "data": {
      "text/plain": [
       "'HelloWorld'"
      ]
     },
     "execution_count": 15,
     "metadata": {},
     "output_type": "execute_result"
    }
   ],
   "source": [
    "# a 변수의 공백을 모두 삭제\n",
    "a = \"      Hello World    \"\n",
    "a.replace(\" \",\"\")"
   ]
  },
  {
   "cell_type": "code",
   "execution_count": 16,
   "metadata": {},
   "outputs": [
    {
     "name": "stdout",
     "output_type": "stream",
     "text": [
      "['1', '2', '3', '4', '5']\n"
     ]
    }
   ],
   "source": [
    "# 문자열을 특정한 값을 기준으로 나눠주는 함수\n",
    "# split(특정한 값) -> 인자 값을 아무것도 넣지 않으면 \" \"을 기준으로 나눠준다.\n",
    "\n",
    "a = \"1,2,3,4,5\"\n",
    "b = \"1 2 3 4 5\"\n",
    "\n",
    "print(a.split(','))"
   ]
  },
  {
   "cell_type": "code",
   "execution_count": 19,
   "metadata": {},
   "outputs": [
    {
     "name": "stdout",
     "output_type": "stream",
     "text": [
      "['1', '2', '3', '4', '5']\n"
     ]
    }
   ],
   "source": [
    "print(b.split())"
   ]
  },
  {
   "cell_type": "code",
   "execution_count": 20,
   "metadata": {},
   "outputs": [
    {
     "name": "stdout",
     "output_type": "stream",
     "text": [
      "3\n"
     ]
    }
   ],
   "source": [
    "print(a.split(',')[2])"
   ]
  },
  {
   "cell_type": "code",
   "execution_count": 21,
   "metadata": {},
   "outputs": [
    {
     "name": "stdout",
     "output_type": "stream",
     "text": [
      "6\n",
      "1\n"
     ]
    }
   ],
   "source": [
    "# max() -> 인자값들 중에 가장 큰 숫자를 출력\n",
    "# mean() -> 인자값들의 평균 출력\n",
    "# min() -> 인자 값들 중에 가장 작은 숫자를 출력\n",
    "print(max(1,6,3,4))\n",
    "print(min(1,6,3,4))"
   ]
  },
  {
   "cell_type": "code",
   "execution_count": 22,
   "metadata": {},
   "outputs": [
    {
     "name": "stdout",
     "output_type": "stream",
     "text": [
      "Hello\n"
     ]
    }
   ],
   "source": [
    "# 일반 함수\n",
    "\n",
    "# 함수 선언(생성)\n",
    "def  func_1():\n",
    "    return \"Hello\"\n",
    "\n",
    "# 함수를 호출\n",
    "print(func_1())"
   ]
  },
  {
   "cell_type": "code",
   "execution_count": 23,
   "metadata": {},
   "outputs": [
    {
     "name": "stdout",
     "output_type": "stream",
     "text": [
      "9\n",
      "9\n",
      "Helloworld\n"
     ]
    }
   ],
   "source": [
    "# 매개변수가 존재하는 경우\n",
    "def func_2(a,b):\n",
    "    c = a + b\n",
    "    return c\n",
    "print(func_2(3, 6))             # 9 출력\n",
    "print(func_2(3, 6))             # 3 출력\n",
    "print(func_2('Hello', 'world')) # 'Helloworld' 출력"
   ]
  },
  {
   "cell_type": "code",
   "execution_count": 26,
   "metadata": {},
   "outputs": [
    {
     "name": "stdout",
     "output_type": "stream",
     "text": [
      "6/7\n",
      "-1\n"
     ]
    }
   ],
   "source": [
    "# 함수의 매개변수의 개수와 호출할때 인자의 개수가 다르면?\n",
    "\n",
    "# 매개변수에 기본값 설정\n",
    "def func_5(a,b, c = 2):\n",
    "    result = a + b - c\n",
    "    return result\n",
    "\n",
    "print(func_5(5,4,3), end=\"/\")\n",
    "print(func_5(5,4))\n",
    "print(func_5(c = 5,a = 3, b = 1))"
   ]
  },
  {
   "cell_type": "code",
   "execution_count": 28,
   "metadata": {},
   "outputs": [
    {
     "name": "stdout",
     "output_type": "stream",
     "text": [
      "8\n",
      "2\n",
      "c의 값이 잘못되었습니다\n"
     ]
    }
   ],
   "source": [
    "# c의 값이 1이면 a와 b의 합계 return\n",
    "# c의 값이 2이면 a와 b의 차이 return\n",
    "# c가 그 외의 데이터이면 'c의 값이 잘못되었습니다' return\n",
    "def func_6(a, b, c):\n",
    "    # c가 1인 경우\n",
    "    if c == 1:\n",
    "        # a와 b의 합계를 return\n",
    "        #return a + b\n",
    "        result = a + b\n",
    "    # c가 1이 아니고 2인 경우\n",
    "    elif c == 2:\n",
    "        # a와 b의 차이를 return\n",
    "        #return a-b\n",
    "        result = a - b\n",
    "    # c가 그 외의 데이터이면\n",
    "    else:\n",
    "        #return 'c의 값이 잘못되었습니다'\n",
    "        result = 'c의 값이 잘못되었습니다'\n",
    "    return result\n",
    "\n",
    "print(func_6(5,3,1))\n",
    "print(func_6(5,3,2))\n",
    "print(func_6(5,3,3))"
   ]
  },
  {
   "cell_type": "code",
   "execution_count": 29,
   "metadata": {},
   "outputs": [
    {
     "name": "stdout",
     "output_type": "stream",
     "text": [
      "1\n",
      "2\n",
      "3\n",
      "4\n",
      "5\n",
      "6\n",
      "7\n",
      "8\n",
      "9\n",
      "10\n"
     ]
    }
   ],
   "source": [
    "# 반복문\n",
    "for i in range(1, 11, 1):\n",
    "    print(i)"
   ]
  },
  {
   "cell_type": "code",
   "execution_count": 42,
   "metadata": {},
   "outputs": [
    {
     "name": "stdout",
     "output_type": "stream",
     "text": [
      "10 20 30 40 "
     ]
    },
    {
     "ename": "TypeError",
     "evalue": "'list' object is not callable",
     "output_type": "error",
     "traceback": [
      "\u001b[1;31m---------------------------------------------------------------------------\u001b[0m",
      "\u001b[1;31mTypeError\u001b[0m                                 Traceback (most recent call last)",
      "Cell \u001b[1;32mIn[42], line 7\u001b[0m\n\u001b[0;32m      5\u001b[0m _list \u001b[39m=\u001b[39m [\u001b[39m10\u001b[39m, \u001b[39m20\u001b[39m, \u001b[39m30\u001b[39m, \u001b[39m40\u001b[39m]\n\u001b[0;32m      6\u001b[0m \u001b[39mfor\u001b[39;00m i \u001b[39min\u001b[39;00m \u001b[39mrange\u001b[39m(\u001b[39m0\u001b[39m, \u001b[39mlen\u001b[39m(_list), \u001b[39m1\u001b[39m):\n\u001b[1;32m----> 7\u001b[0m     \u001b[39mprint\u001b[39m(_list(i), end \u001b[39m=\u001b[39m \u001b[39m'\u001b[39m\u001b[39m \u001b[39m\u001b[39m'\u001b[39m)\n",
      "\u001b[1;31mTypeError\u001b[0m: 'list' object is not callable"
     ]
    }
   ],
   "source": [
    "_list = [10, 20, 30, 40]\n",
    "for i in _list:\n",
    "    print(i, end = ' ')\n",
    "\n",
    "#_list = [10, 20, 30, 40]\n",
    "#for i in range(0, len(_list), 1):\n",
    "#    print(_list(i), end = ' ')"
   ]
  },
  {
   "attachments": {},
   "cell_type": "markdown",
   "metadata": {},
   "source": [
    "### 예제 문제\n",
    "1. 함수 생성 (매개변수 2개 : _min, _max)\n",
    "2. _min부터 _max까지의 합계를 출력하는 함수\n",
    "    1) 함수 생성 매개변수 2개를 넣어서 생성\n",
    "    2) 매개변수 2개가 print() 함수를 이용해서 출력\n",
    "    3) 함수 안에 반복문을 생성 _min부터 _max까지 반복해서 i 값을 출력\n",
    "    4) 합계라는 변수를 하나 생성 0 대입\n",
    "    5) 반복문에서 i 값을 합계라는 변수에 플러스\n",
    "    6) 합계 리턴"
   ]
  },
  {
   "cell_type": "code",
   "execution_count": 57,
   "metadata": {},
   "outputs": [
    {
     "name": "stdout",
     "output_type": "stream",
     "text": [
      "18\n"
     ]
    }
   ],
   "source": [
    "def func_77(_min, _max):\n",
    "\n",
    "    if _min > _max:\n",
    "        mymin = _max\n",
    "        mymax = _min\n",
    "    else:\n",
    "        mymin = _min\n",
    "        mymax = _max\n",
    "\n",
    "    my_sum = 0\n",
    "\n",
    "    for i in range(mymin, mymax+1, 1):\n",
    "        my_sum = my_sum + i\n",
    "    return my_sum\n",
    "\n",
    "print(func_77(7,5))"
   ]
  },
  {
   "cell_type": "code",
   "execution_count": 63,
   "metadata": {},
   "outputs": [
    {
     "name": "stdout",
     "output_type": "stream",
     "text": [
      "52\n",
      "52\n"
     ]
    }
   ],
   "source": [
    "def func_7(_min, _max):\n",
    "#    print(_min)\n",
    "#    print(_max)\n",
    "    result = 0\n",
    "\n",
    "    # _max가 _min보다 더 큰 경우\n",
    "    if  _min < _max :       \n",
    "        for i in range(_min, _max+1):\n",
    "#            print(i)\n",
    "            result = result + i\n",
    "    else:\n",
    "        for i in range(_max, _min+1):\n",
    "#            print(i)\n",
    "            result = result + i        \n",
    "    return result\n",
    "print(func_7(10,3))\n",
    "print(func_7(3,10))"
   ]
  },
  {
   "cell_type": "code",
   "execution_count": 67,
   "metadata": {},
   "outputs": [
    {
     "name": "stdout",
     "output_type": "stream",
     "text": [
      "55\n",
      "55\n"
     ]
    }
   ],
   "source": [
    "def func_8(_min, _max):\n",
    "    result = 0\n",
    "    for i in range(min(_min, _max), max(_min, _max)+1):\n",
    "        result += i\n",
    "    return result\n",
    "print(func_8(10,1))\n",
    "print(func_8(1,10))"
   ]
  },
  {
   "cell_type": "code",
   "execution_count": 70,
   "metadata": {},
   "outputs": [
    {
     "name": "stdout",
     "output_type": "stream",
     "text": [
      "4\n"
     ]
    },
    {
     "data": {
      "text/plain": [
       "4"
      ]
     },
     "execution_count": 70,
     "metadata": {},
     "output_type": "execute_result"
    }
   ],
   "source": [
    "def func_9(a, b):\n",
    "    result = a + b\n",
    "    print(result)\n",
    "\n",
    "func_9(1,3)\n",
    "\n",
    "def func_10(a, b):\n",
    "    result = a + b\n",
    "    return result\n",
    "\n",
    "func_10(1,3)"
   ]
  },
  {
   "cell_type": "code",
   "execution_count": 71,
   "metadata": {},
   "outputs": [
    {
     "name": "stdout",
     "output_type": "stream",
     "text": [
      "(1, 2, 3, 4, 5)\n",
      "(1, 2, 3)\n",
      "(1, 2, 3, 4, 5, 6, 7, 8, 9, 10)\n"
     ]
    }
   ],
   "source": [
    "# 함수 생성 -> 인자의 개수가 가변인 경우\n",
    "def func_11(*_list):\n",
    "    print(_list)\n",
    "\n",
    "func_11(1,2,3,4,5)\n",
    "func_11(1,2,3)\n",
    "func_11(1,2,3,4,5,6,7,8,9,10)"
   ]
  },
  {
   "attachments": {},
   "cell_type": "markdown",
   "metadata": {},
   "source": [
    "- max(), min() 함수를 생성\n",
    "    1. 인자의 개수가 가변이다. -> *매개변수\n",
    "    2. 각각의 항목들을 비교해서 가장 큰 숫자를 출력 -> return int형태\n",
    "    3. 예를 들어 4개의 항목의 데이터를 대입\n",
    "        1. 첫 번쨰 항목과 두 번째 항목을 비교해서 큰 값을 새로운 변수에 대입\n",
    "        2. 1번 과정에서 나온 값과 세 번째 항목을 비교해서 큰 값을 다시 변수에 대입\n",
    "        3. 2번 과정에서 나온 값과 마지막 항목을 비교해서 큰 값을 다시 변수에 대입\n",
    "        4. 최종 변수의 값을 return"
   ]
  },
  {
   "cell_type": "code",
   "execution_count": 75,
   "metadata": {},
   "outputs": [
    {
     "name": "stdout",
     "output_type": "stream",
     "text": [
      "8\n",
      "50\n"
     ]
    }
   ],
   "source": [
    "# 드래그 후 ctrl+/ 누르면 한 번에 주석처리 or 한 번에 주석처리 해제\n",
    "\n",
    "def custom_max(*_list):\n",
    "    result = _list[0]\n",
    "    # 첫 번째 원소를 출력?\n",
    "    # 첫 번째 원소와 두 번째 원소의 값을 비교하여 큰 값을 result에 대입\n",
    "    # if _list[0] > _list[1]:\n",
    "    #    result = _list[0]\n",
    "    # else:\n",
    "    #    result = _list[1]\n",
    "    # if result < _list[1]:\n",
    "    #     result = _list[1]\n",
    "    \n",
    "    # result와 세 번째 원소를 비교\n",
    "    #if result > _list[2]:\n",
    "    #    result = result\n",
    "    #else:\n",
    "    #    result = _list[2]\n",
    "    # if result < _list[2]:\n",
    "    #     result = _list[2]\n",
    "\n",
    "\n",
    "    # for i in range(1, len(_list), 1):\n",
    "    #     if result < _list[i]:\n",
    "    #         result = _list[i]\n",
    "    # return result\n",
    "\n",
    "    for i in _list:\n",
    "        if result < i:\n",
    "            result = i\n",
    "    return result\n",
    "\n",
    "print(custom_max(1,6,4,8,2))\n",
    "print(custom_max(6,3,2,9,11,50,-100))"
   ]
  },
  {
   "attachments": {},
   "cell_type": "markdown",
   "metadata": {},
   "source": [
    "- 평균을 출력해주는 함수 생성\n",
    "    1. 인자 개수가 가변\n",
    "    2. 받아온 인자 값들을 원소 하나씩 출력\n",
    "    3. 각 원소들의 합계\n",
    "        1. 합계라는 변수 생성 0을 대입\n",
    "        2. 각 원소들의 값들은 합계에 추가\n",
    "    4. 합계 / 인자의 개수 -> 평균이라는 변수에 대입\n",
    "    5. 평균 값을 리턴"
   ]
  },
  {
   "cell_type": "code",
   "execution_count": 87,
   "metadata": {},
   "outputs": [
    {
     "name": "stdout",
     "output_type": "stream",
     "text": [
      "8.833333333333334\n"
     ]
    }
   ],
   "source": [
    "def custom_mean(*_list):\n",
    "    #result = _list[0]\n",
    "\n",
    "    # result = 0\n",
    "    # for i in _list:\n",
    "    #     print(i)\n",
    "    #     result = result + i\n",
    "    # result_mean = result/len(_list)\n",
    "    # return result_mean\n",
    "\n",
    "    # 초기값 지정\n",
    "    i = 0\n",
    "    # 합계 변수 생성, 0을 대입\n",
    "    sum = 0\n",
    "    while i < len(_list):\n",
    "        # print(_list[i])\n",
    "\n",
    "        sum += _list[i]\n",
    "        # i값을 증가\n",
    "        i += 1\n",
    "    result = sum / len(_list)\n",
    "    return result\n",
    "    # print(sum)\n",
    "\n",
    "print(custom_mean(1,6,7,8,11,20))"
   ]
  },
  {
   "cell_type": "code",
   "execution_count": 88,
   "metadata": {},
   "outputs": [],
   "source": [
    "# 외부의 모듈을 로드\n",
    "import mod1"
   ]
  },
  {
   "cell_type": "code",
   "execution_count": 90,
   "metadata": {},
   "outputs": [
    {
     "data": {
      "text/plain": [
       "5"
      ]
     },
     "execution_count": 90,
     "metadata": {},
     "output_type": "execute_result"
    }
   ],
   "source": [
    "mod1.custom_max(1,2,3,4,5)"
   ]
  },
  {
   "cell_type": "code",
   "execution_count": 91,
   "metadata": {},
   "outputs": [
    {
     "data": {
      "text/plain": [
       "3.0"
      ]
     },
     "execution_count": 91,
     "metadata": {},
     "output_type": "execute_result"
    }
   ],
   "source": [
    "mod1.custom_mean(1,2,3,4,5)"
   ]
  },
  {
   "cell_type": "code",
   "execution_count": null,
   "metadata": {},
   "outputs": [],
   "source": []
  }
 ],
 "metadata": {
  "kernelspec": {
   "display_name": "Python 3",
   "language": "python",
   "name": "python3"
  },
  "language_info": {
   "codemirror_mode": {
    "name": "ipython",
    "version": 3
   },
   "file_extension": ".py",
   "mimetype": "text/x-python",
   "name": "python",
   "nbconvert_exporter": "python",
   "pygments_lexer": "ipython3",
   "version": "3.11.2"
  },
  "orig_nbformat": 4,
  "vscode": {
   "interpreter": {
    "hash": "aa4204fb936bbd2950c46e2e355ba67b93187c3d39c4e4e6c58022f2821a4626"
   }
  }
 },
 "nbformat": 4,
 "nbformat_minor": 2
}
